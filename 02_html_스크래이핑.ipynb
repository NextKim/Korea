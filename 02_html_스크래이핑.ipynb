{
  "nbformat": 4,
  "nbformat_minor": 0,
  "metadata": {
    "colab": {
      "name": "02. html 스크래이핑",
      "provenance": [],
      "collapsed_sections": [],
      "include_colab_link": true
    },
    "kernelspec": {
      "name": "python3",
      "display_name": "Python 3"
    },
    "language_info": {
      "name": "python"
    }
  },
  "cells": [
    {
      "cell_type": "markdown",
      "metadata": {
        "id": "view-in-github",
        "colab_type": "text"
      },
      "source": [
        "<a href=\"https://colab.research.google.com/github/NextKim/Korea/blob/main/02_html_%EC%8A%A4%ED%81%AC%EB%9E%98%EC%9D%B4%ED%95%91.ipynb\" target=\"_parent\"><img src=\"https://colab.research.google.com/assets/colab-badge.svg\" alt=\"Open In Colab\"/></a>"
      ]
    },
    {
      "cell_type": "code",
      "metadata": {
        "colab": {
          "base_uri": "https://localhost:8080/",
          "height": 69
        },
        "id": "QWEdvVmPr-hj",
        "outputId": "537339b9-91b0-4fb1-88a4-970511a440ab"
      },
      "source": [
        "%%html\n",
        "<html>\n",
        "  <head>\n",
        "    <title>안녕하세요</title>\n",
        "  </head>\n",
        "  <body>\n",
        "    <div id=\"container\">\n",
        "      <p class='p1'>hello</p>\n",
        "      <p>Bye</p>\n",
        "    </div>\n",
        "  </body>\n",
        "</html>"
      ],
      "execution_count": null,
      "outputs": [
        {
          "output_type": "display_data",
          "data": {
            "text/html": [
              "<html>\n",
              "  <head>\n",
              "    <title>안녕하세요</title>\n",
              "  </head>\n",
              "  <body>\n",
              "    <div id=\"container\">\n",
              "      <p class='p1'>hello</p>\n",
              "      <p>Bye</p>\n",
              "    </div>\n",
              "  </body>\n",
              "</html>"
            ],
            "text/plain": [
              "<IPython.core.display.HTML object>"
            ]
          },
          "metadata": {}
        }
      ]
    },
    {
      "cell_type": "code",
      "metadata": {
        "id": "joU0UU5vrxA3"
      },
      "source": [
        "html_str = \"\"\"\n",
        "<html>\n",
        "  <head>\n",
        "    <title>안녕하세요</title>\n",
        "  </head>\n",
        "  <body>\n",
        "    <div id=\"container\">\n",
        "      <p class='p1'>hello</p>\n",
        "      <p>Bye</p>\n",
        "    </div>\n",
        "  </body>\n",
        "</html>\"\"\""
      ],
      "execution_count": null,
      "outputs": []
    },
    {
      "cell_type": "markdown",
      "metadata": {
        "id": "4f3Mx77YtB2E"
      },
      "source": [
        "html 문자열을 파이썬에서 다뤄야 한다.\n",
        "  * html 형식의 문자열을 파이썬에서 다룰 수 있도록 해야 한다.\n",
        "  * `BeautifulSoup`을 이용해서 HTML 문자열을 Element 객체화 시킬 수 있다.\n",
        "  * `BeautifulSoup`을 이용해 필요한 부분에 손쉽게 접근해서 필요한 데이터를 가져오면 된다.\n",
        "    * 선택자 사용 (`select()`)\n",
        "    * 찾기 기능(`find()`)\n",
        "\n"
      ]
    },
    {
      "cell_type": "code",
      "metadata": {
        "id": "qDPPSV-gtbY6"
      },
      "source": [
        "from bs4 import BeautifulSoup"
      ],
      "execution_count": null,
      "outputs": []
    },
    {
      "cell_type": "code",
      "metadata": {
        "colab": {
          "base_uri": "https://localhost:8080/"
        },
        "id": "igihAfPztmwy",
        "outputId": "791b8afb-c547-421f-9d59-bcf68274fc27"
      },
      "source": [
        "soup = BeautifulSoup(html_str, 'html.parser')\n",
        "soup"
      ],
      "execution_count": null,
      "outputs": [
        {
          "output_type": "execute_result",
          "data": {
            "text/plain": [
              "\n",
              "<html>\n",
              "<head>\n",
              "<title>안녕하세요</title>\n",
              "</head>\n",
              "<body>\n",
              "<div id=\"container\">\n",
              "<p class=\"p1\">hello</p>\n",
              "<p>Bye</p>\n",
              "</div>\n",
              "</body>\n",
              "</html>"
            ]
          },
          "metadata": {},
          "execution_count": 4
        }
      ]
    },
    {
      "cell_type": "code",
      "metadata": {
        "colab": {
          "base_uri": "https://localhost:8080/"
        },
        "id": "uEdMs47Jt32r",
        "outputId": "3f9af33c-cc68-42c3-f43e-02fceee1ede3"
      },
      "source": [
        "# 1. div 중에 id가 container인 것을 find\n",
        "soup.find(\"div\", {\"id\":\"container\"})"
      ],
      "execution_count": null,
      "outputs": [
        {
          "output_type": "execute_result",
          "data": {
            "text/plain": [
              "<div id=\"container\">\n",
              "<p class=\"p1\">hello</p>\n",
              "<p>Bye</p>\n",
              "</div>"
            ]
          },
          "metadata": {},
          "execution_count": 5
        }
      ]
    },
    {
      "cell_type": "code",
      "metadata": {
        "colab": {
          "base_uri": "https://localhost:8080/"
        },
        "id": "lUlIm2pIuNwD",
        "outputId": "2c90332d-d968-421c-9649-b63e47c6eb66"
      },
      "source": [
        "# 2. div 중에 id가 container인 것을 select(한개만)\n",
        "soup.select_one(\"div#container\")"
      ],
      "execution_count": null,
      "outputs": [
        {
          "output_type": "execute_result",
          "data": {
            "text/plain": [
              "<div id=\"container\">\n",
              "<p class=\"p1\">hello</p>\n",
              "<p>Bye</p>\n",
              "</div>"
            ]
          },
          "metadata": {},
          "execution_count": 6
        }
      ]
    },
    {
      "cell_type": "markdown",
      "metadata": {
        "id": "Lpt1jCYnuio5"
      },
      "source": [
        "* `find(\"태그 이름\", \"속성 값을 딕셔너리로 묶은 것\")` : 한개만 찾기. 조건을 만족하는 엘리먼트가 다수일 경우에는 **첫 번째 엘리먼트**만 가져온다.\n",
        "* `find_all` : 모두 찾기(리스트로 나옴)"
      ]
    },
    {
      "cell_type": "markdown",
      "metadata": {
        "id": "tJIQBRH4uvyp"
      },
      "source": [
        "* select(\"선택자\") : 선택자를 만족하는 여러 개의 엘리먼트를 찾는다. ( 리스트 )\n",
        "* select_one(\"선택자\") : 선택자를 만족하는 한 개의 엘리먼트를 찾는다."
      ]
    },
    {
      "cell_type": "markdown",
      "metadata": {
        "id": "gLyM3TxVvLwJ"
      },
      "source": [
        "## 텍스트 꺼내오기\n",
        "* 찾아낸 **엘리먼트**에서 `.text`"
      ]
    },
    {
      "cell_type": "code",
      "metadata": {
        "colab": {
          "base_uri": "https://localhost:8080/"
        },
        "id": "qBUpM8U6vbmK",
        "outputId": "9eb60f8d-6e60-4dc5-ba38-bd19169e04ac"
      },
      "source": [
        "# select로 hello 가져오기\n",
        "p1_element = soup.select(\"div#container > p.p1\")\n",
        "p1_element"
      ],
      "execution_count": null,
      "outputs": [
        {
          "output_type": "execute_result",
          "data": {
            "text/plain": [
              "[<p class=\"p1\">hello</p>]"
            ]
          },
          "metadata": {},
          "execution_count": 7
        }
      ]
    },
    {
      "cell_type": "markdown",
      "metadata": {
        "id": "Y5W0ShB4wawb"
      },
      "source": [
        "select를 이용해서 여러 개를 선택 했기 때문에 list로 나옵니다."
      ]
    },
    {
      "cell_type": "code",
      "metadata": {
        "colab": {
          "base_uri": "https://localhost:8080/"
        },
        "id": "QUQzuGMAwhqq",
        "outputId": "f3229e06-89ce-4a7e-8054-308ed22d79cf"
      },
      "source": [
        "p1_element[0]"
      ],
      "execution_count": null,
      "outputs": [
        {
          "output_type": "execute_result",
          "data": {
            "text/plain": [
              "<p class=\"p1\">hello</p>"
            ]
          },
          "metadata": {},
          "execution_count": 8
        }
      ]
    },
    {
      "cell_type": "code",
      "metadata": {
        "colab": {
          "base_uri": "https://localhost:8080/",
          "height": 35
        },
        "id": "Ji5u9eggwmmK",
        "outputId": "e5b20503-b49a-4036-df08-611bbb7a0887"
      },
      "source": [
        "p1_element[0].text"
      ],
      "execution_count": null,
      "outputs": [
        {
          "output_type": "execute_result",
          "data": {
            "application/vnd.google.colaboratory.intrinsic+json": {
              "type": "string"
            },
            "text/plain": [
              "'hello'"
            ]
          },
          "metadata": {},
          "execution_count": 9
        }
      ]
    },
    {
      "cell_type": "markdown",
      "metadata": {
        "id": "6yM7AJkdwrla"
      },
      "source": [
        "한 개만 선택하려면 `select_one`"
      ]
    },
    {
      "cell_type": "code",
      "metadata": {
        "colab": {
          "base_uri": "https://localhost:8080/",
          "height": 35
        },
        "id": "lN6j6aoFw07C",
        "outputId": "ce96d706-e89b-477f-d6db-09e0f0e08961"
      },
      "source": [
        "soup.select_one(\"div#container > p.p1\").text"
      ],
      "execution_count": null,
      "outputs": [
        {
          "output_type": "execute_result",
          "data": {
            "application/vnd.google.colaboratory.intrinsic+json": {
              "type": "string"
            },
            "text/plain": [
              "'hello'"
            ]
          },
          "metadata": {},
          "execution_count": 10
        }
      ]
    },
    {
      "cell_type": "markdown",
      "metadata": {
        "id": "_g1MjIdCw5KK"
      },
      "source": [
        "Bye 선택하기"
      ]
    },
    {
      "cell_type": "code",
      "metadata": {
        "colab": {
          "base_uri": "https://localhost:8080/"
        },
        "id": "XeE3ytwJxFG7",
        "outputId": "156fb02d-e1cd-4472-fb81-4e94c2a8702e"
      },
      "source": [
        "p_list = soup.select(\"div#container > p\")\n",
        "p_list"
      ],
      "execution_count": null,
      "outputs": [
        {
          "output_type": "execute_result",
          "data": {
            "text/plain": [
              "[<p class=\"p1\">hello</p>, <p>Bye</p>]"
            ]
          },
          "metadata": {},
          "execution_count": 11
        }
      ]
    },
    {
      "cell_type": "code",
      "metadata": {
        "colab": {
          "base_uri": "https://localhost:8080/",
          "height": 35
        },
        "id": "5vL-GDOMxJgW",
        "outputId": "a6b0eaf4-0db8-472d-8e9b-c468f6b23a51"
      },
      "source": [
        "p_list[1].text"
      ],
      "execution_count": null,
      "outputs": [
        {
          "output_type": "execute_result",
          "data": {
            "application/vnd.google.colaboratory.intrinsic+json": {
              "type": "string"
            },
            "text/plain": [
              "'Bye'"
            ]
          },
          "metadata": {},
          "execution_count": 12
        }
      ]
    },
    {
      "cell_type": "markdown",
      "metadata": {
        "id": "t2CLARLXxPBC"
      },
      "source": [
        "## 속성값 가져오기\n",
        "* 엘리먼트를 찾고, 원하는 속성명을 적어주면 속성값을 찾아낼 수 있다."
      ]
    },
    {
      "cell_type": "code",
      "metadata": {
        "colab": {
          "base_uri": "https://localhost:8080/"
        },
        "id": "GtPKBEq4xfU8",
        "outputId": "be15d049-3ff7-4252-cd5f-d13c5ea67d8e"
      },
      "source": [
        "# get 함수를 사용해서 속성값 찾아내기\n",
        "soup.select_one(\".p1\").get(\"class\")"
      ],
      "execution_count": null,
      "outputs": [
        {
          "output_type": "execute_result",
          "data": {
            "text/plain": [
              "['p1']"
            ]
          },
          "metadata": {},
          "execution_count": 13
        }
      ]
    },
    {
      "cell_type": "code",
      "metadata": {
        "colab": {
          "base_uri": "https://localhost:8080/"
        },
        "id": "Wzu3RYG0xoRy",
        "outputId": "068ab1c7-4332-428f-8a64-e9b68e3725f2"
      },
      "source": [
        "# dict처럼 key로 집어 넣어서 찾아내기\n",
        "soup.select_one(\".p1\")[\"class\"]"
      ],
      "execution_count": null,
      "outputs": [
        {
          "output_type": "execute_result",
          "data": {
            "text/plain": [
              "['p1']"
            ]
          },
          "metadata": {},
          "execution_count": 15
        }
      ]
    },
    {
      "cell_type": "markdown",
      "metadata": {
        "id": "_SlJJdGzxrcp"
      },
      "source": [
        "# 네이버 환율 정보 가져오기\n",
        "* 웹에 접속을 해야 하기 때문에 `requests` 모듈 필요\n",
        "* `html` 문서를 가져오고 Element 객체화 시키기 위해 `BeautifulSoup` 필요"
      ]
    },
    {
      "cell_type": "code",
      "metadata": {
        "id": "EuBYVxE61umk"
      },
      "source": [
        "import requests # 요청(request)을 하기 위한 모듈\n",
        "from bs4 import BeautifulSoup"
      ],
      "execution_count": null,
      "outputs": []
    },
    {
      "cell_type": "code",
      "metadata": {
        "id": "wDKR-c071z5T"
      },
      "source": [
        "url=\"https://finance.naver.com/marketindex/\""
      ],
      "execution_count": null,
      "outputs": []
    },
    {
      "cell_type": "code",
      "metadata": {
        "colab": {
          "base_uri": "https://localhost:8080/"
        },
        "id": "2-5vOxQg2G8y",
        "outputId": "a7ad0565-0648-403b-f657-184acb6bf75e"
      },
      "source": [
        "response = requests.get(url) # 입력한 url로 request하고, request에 대한 응답(response)를 받는다.\n",
        "response"
      ],
      "execution_count": null,
      "outputs": [
        {
          "output_type": "execute_result",
          "data": {
            "text/plain": [
              "<Response [200]>"
            ]
          },
          "metadata": {},
          "execution_count": 18
        }
      ]
    },
    {
      "cell_type": "markdown",
      "metadata": {
        "id": "qhwPs9dr2cw5"
      },
      "source": [
        "`Response [200]` : 정상적으로 응답을 받아왔다!"
      ]
    },
    {
      "cell_type": "code",
      "metadata": {
        "colab": {
          "base_uri": "https://localhost:8080/"
        },
        "id": "rgdJ2FFc2h6x",
        "outputId": "ac6b9b0d-0279-4715-c127-0758ac6597e4"
      },
      "source": [
        "html = response.content # Response 객체에서 html 코드만 가져오기\n",
        "print(html)"
      ],
      "execution_count": null,
      "outputs": [
        {
          "output_type": "stream",
          "name": "stdout",
          "text": [
            "b'\\n<script language=javascript src=\"/template/head_js.naver?referer=info.finance.naver.com&menu=marketindex&submenu=market\"></script>\\n<script type=\"text/javascript\" src=\"https://ssl.pstatic.net/imgstock/static.pc/20211029233853/js/info/jindo.min.ns.1.5.3.euckr.js\"></script>\\n<script type=\"text/javascript\" src=\"https://ssl.pstatic.net/imgstock/static.pc/20211029233853/js/jindo.1.5.3.element-text-patch.js\"></script>\\n\\n\\n\\t\\n\\t\\n\\t<div id=\"container\" style=\"padding-bottom:0px;\">\\n\\t\\n\\n\\t\\t\\n\\n\\n\\n\\n\\n\\n\\n\\n\\n\\n\\n\\n\\n\\n\\n\\n\\n\\n\\n\\n\\n\\n\\n\\n\\n\\t\\t<div class=\"market_include\">\\n\\t<div class=\"market_data\">\\n\\t\\t<div class=\"market1\">\\n\\t\\t\\t<div class=\"title\">\\n\\t\\t\\t\\t<h2 class=\"h_market1\"><span>\\xc8\\xaf\\xc0\\xfc \\xb0\\xed\\xbd\\xc3 \\xc8\\xaf\\xc0\\xb2</span></h2>\\n\\t\\t\\t</div>\\n\\t\\t\\t<!-- data -->\\n\\t\\t\\t<div class=\"data\">\\n\\t\\t\\t\\t<ul class=\"data_lst\" id=\"exchangeList\">\\n\\t\\t\\t\\t\\n\\t\\t\\t\\t    \\n\\t\\t\\t\\t         \\n\\t\\t\\t\\t         \\n\\t\\t\\t\\t         \\n\\t\\t\\t\\t         \\t\\t\\t\\t         \\t\\t\\t         \\n\\t\\t\\t\\t        \\n\\t\\t\\t\\t\\t\\n\\t\\t\\t\\t \\t<li class=\"on\">\\n\\t\\t\\t\\t\\t<a href=\"/marketindex/exchangeDetail.naver?marketindexCd=FX_USDKRW\" class=\"head usd\" onClick=\"clickcr(this, \\'fr1.usdt\\', \\'\\', \\'\\', event);\">\\n\\t\\t\\t\\t\\t\\t<h3 class=\"h_lst\"><span class=\"blind\">\\xb9\\xcc\\xb1\\xb9 USD</span></h3>\\n\\t\\t\\t\\t\\t\\t\\n\\t\\t\\t\\t\\t\\t \\n\\t\\t\\t\\t\\t\\t\\n\\t\\t\\t\\t         \\t\\n\\t\\t\\t\\t         \\t\\n\\t\\t\\t\\t         \\t\\t\\t\\t\\t         \\t\\t\\t         \\n\\t\\t\\t\\t     \\t    \\n\\t\\t\\t\\t\\t\\t<div class=\"head_info point_up\">\\n\\t\\t\\t\\t\\t\\t\\t<span class=\"value\">1,179.00</span>\\n\\t\\t\\t\\t\\t\\t\\t<span class=\"txt_krw\"><span class=\"blind\">\\xbf\\xf8</span></span>\\n\\t\\t\\t\\t\\t\\t\\t<span class=\"change\">3.00</span>\\n\\t\\t\\t\\t\\t\\t\\t<span class=\"blind\">\\xbb\\xf3\\xbd\\xc2</span>\\n\\t\\t\\t\\t\\t\\t</div>\\n\\t\\t\\t\\t\\t</a>\\n\\t\\t\\t\\t\\t\\n\\t\\t\\t\\t\\t<a href=\"/marketindex/exchangeDetail.naver?marketindexCd=FX_USDKRW\" class=\"graph_img\" onClick=\"clickcr(this, \\'fr1.usdc\\', \\'\\', \\'\\', event);\">\\n\\t\\t\\t\\t\\t\\t<img src=\"https://ssl.pstatic.net/imgfinance/chart/marketindex/FX_USDKRW.png\" alt=\"\" width=\"295\" height=\"153\">\\n\\t\\t\\t\\t\\t</a>\\n\\t\\t\\t\\t\\t\\n\\t\\t\\t\\t\\t<div class=\"graph_info\">\\n\\t\\t\\t\\t\\t\\t<span class=\"time\">2021.11.10 20:04</span>\\n\\t\\t\\t\\t\\t\\t<span class=\"source\">\\xc7\\xcf\\xb3\\xaa\\xc0\\xba\\xc7\\xe0 \\xb1\\xe2\\xc1\\xd8</span>\\n\\t\\t\\t\\t\\t\\t<span class=\"count\">\\xb0\\xed\\xbd\\xc3\\xc8\\xb8\\xc2\\xf7<span class=\"num\">252</span>\\xc8\\xb8</span>\\n\\t\\t\\t\\t\\t\\t\\t\\t\\t\\t\\t\\t\\t\\t\\n\\t\\t\\t\\t\\t</div>\\t\\t\\t\\t\\t\\t\\t\\t\\t\\t\\n\\t\\t\\t\\t</li>\\n\\t\\t\\t\\t\\n\\t\\t\\t\\t    \\n\\t\\t\\t\\t         \\n\\t\\t\\t\\t         \\n\\t\\t\\t\\t         \\n\\t\\t\\t\\t         \\t\\t\\t\\t         \\t\\t\\t         \\n\\t\\t\\t\\t        \\n\\t\\t\\t\\t\\t\\n\\t\\t\\t\\t \\t<li class=\"\">\\n\\t\\t\\t\\t\\t<a href=\"/marketindex/exchangeDetail.naver?marketindexCd=FX_JPYKRW\" class=\"head jpy\" onClick=\"clickcr(this, \\'fr1.jpyt\\', \\'\\', \\'\\', event);\">\\n\\t\\t\\t\\t\\t\\t<h3 class=\"h_lst\"><span class=\"blind\">\\xc0\\xcf\\xba\\xbb JPY(100\\xbf\\xa3)</span></h3>\\n\\t\\t\\t\\t\\t\\t\\n\\t\\t\\t\\t\\t\\t \\n\\t\\t\\t\\t\\t\\t\\n\\t\\t\\t\\t         \\t\\n\\t\\t\\t\\t         \\t\\n\\t\\t\\t\\t         \\t\\t\\t\\t\\t         \\t\\t\\t         \\n\\t\\t\\t\\t     \\t    \\n\\t\\t\\t\\t\\t\\t<div class=\"head_info point_dn\">\\n\\t\\t\\t\\t\\t\\t\\t<span class=\"value\">1,041.57</span>\\n\\t\\t\\t\\t\\t\\t\\t<span class=\"txt_krw\"><span class=\"blind\">\\xbf\\xf8</span></span>\\n\\t\\t\\t\\t\\t\\t\\t<span class=\"change\"> 0.48</span>\\n\\t\\t\\t\\t\\t\\t\\t<span class=\"blind\">\\xc7\\xcf\\xb6\\xf4</span>\\n\\t\\t\\t\\t\\t\\t</div>\\n\\t\\t\\t\\t\\t</a>\\n\\t\\t\\t\\t\\t\\n\\t\\t\\t\\t\\t<a href=\"/marketindex/exchangeDetail.naver?marketindexCd=FX_JPYKRW\" class=\"graph_img\" onClick=\"clickcr(this, \\'fr1.jpyc\\', \\'\\', \\'\\', event);\">\\n\\t\\t\\t\\t\\t\\t<img src=\"https://ssl.pstatic.net/imgfinance/chart/marketindex/FX_JPYKRW.png\" alt=\"\" width=\"295\" height=\"153\">\\n\\t\\t\\t\\t\\t</a>\\n\\t\\t\\t\\t\\t\\n\\t\\t\\t\\t\\t<div class=\"graph_info\">\\n\\t\\t\\t\\t\\t\\t<span class=\"time\">2021.11.10 20:04</span>\\n\\t\\t\\t\\t\\t\\t<span class=\"source\">\\xc7\\xcf\\xb3\\xaa\\xc0\\xba\\xc7\\xe0 \\xb1\\xe2\\xc1\\xd8</span>\\n\\t\\t\\t\\t\\t\\t<span class=\"count\">\\xb0\\xed\\xbd\\xc3\\xc8\\xb8\\xc2\\xf7<span class=\"num\">252</span>\\xc8\\xb8</span>\\n\\t\\t\\t\\t\\t\\t\\t\\t\\t\\t\\t\\t\\t\\t\\n\\t\\t\\t\\t\\t</div>\\t\\t\\t\\t\\t\\t\\t\\t\\t\\t\\n\\t\\t\\t\\t</li>\\n\\t\\t\\t\\t\\n\\t\\t\\t\\t    \\n\\t\\t\\t\\t         \\n\\t\\t\\t\\t         \\n\\t\\t\\t\\t         \\n\\t\\t\\t\\t         \\t\\t\\t\\t         \\t\\t\\t         \\n\\t\\t\\t\\t        \\n\\t\\t\\t\\t\\t\\n\\t\\t\\t\\t \\t<li class=\"\">\\n\\t\\t\\t\\t\\t<a href=\"/marketindex/exchangeDetail.naver?marketindexCd=FX_EURKRW\" class=\"head eur\" onClick=\"clickcr(this, \\'fr1.eurt\\', \\'\\', \\'\\', event);\">\\n\\t\\t\\t\\t\\t\\t<h3 class=\"h_lst\"><span class=\"blind\">\\xc0\\xaf\\xb7\\xb4\\xbf\\xac\\xc7\\xd5 EUR</span></h3>\\n\\t\\t\\t\\t\\t\\t\\n\\t\\t\\t\\t\\t\\t \\n\\t\\t\\t\\t\\t\\t\\n\\t\\t\\t\\t         \\t\\n\\t\\t\\t\\t         \\t\\n\\t\\t\\t\\t         \\t\\t\\t\\t\\t         \\t\\t\\t         \\n\\t\\t\\t\\t     \\t    \\n\\t\\t\\t\\t\\t\\t<div class=\"head_info point_up\">\\n\\t\\t\\t\\t\\t\\t\\t<span class=\"value\">1,363.93</span>\\n\\t\\t\\t\\t\\t\\t\\t<span class=\"txt_krw\"><span class=\"blind\">\\xbf\\xf8</span></span>\\n\\t\\t\\t\\t\\t\\t\\t<span class=\"change\">0.77</span>\\n\\t\\t\\t\\t\\t\\t\\t<span class=\"blind\">\\xbb\\xf3\\xbd\\xc2</span>\\n\\t\\t\\t\\t\\t\\t</div>\\n\\t\\t\\t\\t\\t</a>\\n\\t\\t\\t\\t\\t\\n\\t\\t\\t\\t\\t<a href=\"/marketindex/exchangeDetail.naver?marketindexCd=FX_EURKRW\" class=\"graph_img\" onClick=\"clickcr(this, \\'fr1.eurc\\', \\'\\', \\'\\', event);\">\\n\\t\\t\\t\\t\\t\\t<img src=\"https://ssl.pstatic.net/imgfinance/chart/marketindex/FX_EURKRW.png\" alt=\"\" width=\"295\" height=\"153\">\\n\\t\\t\\t\\t\\t</a>\\n\\t\\t\\t\\t\\t\\n\\t\\t\\t\\t\\t<div class=\"graph_info\">\\n\\t\\t\\t\\t\\t\\t<span class=\"time\">2021.11.10 20:04</span>\\n\\t\\t\\t\\t\\t\\t<span class=\"source\">\\xc7\\xcf\\xb3\\xaa\\xc0\\xba\\xc7\\xe0 \\xb1\\xe2\\xc1\\xd8</span>\\n\\t\\t\\t\\t\\t\\t<span class=\"count\">\\xb0\\xed\\xbd\\xc3\\xc8\\xb8\\xc2\\xf7<span class=\"num\">252</span>\\xc8\\xb8</span>\\n\\t\\t\\t\\t\\t\\t\\t\\t\\t\\t\\t\\t\\t\\t\\n\\t\\t\\t\\t\\t</div>\\t\\t\\t\\t\\t\\t\\t\\t\\t\\t\\n\\t\\t\\t\\t</li>\\n\\t\\t\\t\\t\\n\\t\\t\\t\\t    \\n\\t\\t\\t\\t         \\n\\t\\t\\t\\t         \\n\\t\\t\\t\\t         \\n\\t\\t\\t\\t         \\t\\t\\t\\t         \\t\\t\\t         \\n\\t\\t\\t\\t        \\n\\t\\t\\t\\t\\t\\n\\t\\t\\t\\t \\t<li class=\"\">\\n\\t\\t\\t\\t\\t<a href=\"/marketindex/exchangeDetail.naver?marketindexCd=FX_CNYKRW\" class=\"head cny\" onClick=\"clickcr(this, \\'fr1.cnyt\\', \\'\\', \\'\\', event);\">\\n\\t\\t\\t\\t\\t\\t<h3 class=\"h_lst\"><span class=\"blind\">\\xc1\\xdf\\xb1\\xb9 CNY</span></h3>\\n\\t\\t\\t\\t\\t\\t\\n\\t\\t\\t\\t\\t\\t \\n\\t\\t\\t\\t\\t\\t\\n\\t\\t\\t\\t         \\t\\n\\t\\t\\t\\t         \\t\\n\\t\\t\\t\\t         \\t\\t\\t\\t\\t         \\t\\t\\t         \\n\\t\\t\\t\\t     \\t    \\n\\t\\t\\t\\t\\t\\t<div class=\"head_info point_up\">\\n\\t\\t\\t\\t\\t\\t\\t<span class=\"value\">184.52</span>\\n\\t\\t\\t\\t\\t\\t\\t<span class=\"txt_krw\"><span class=\"blind\">\\xbf\\xf8</span></span>\\n\\t\\t\\t\\t\\t\\t\\t<span class=\"change\">0.47</span>\\n\\t\\t\\t\\t\\t\\t\\t<span class=\"blind\">\\xbb\\xf3\\xbd\\xc2</span>\\n\\t\\t\\t\\t\\t\\t</div>\\n\\t\\t\\t\\t\\t</a>\\n\\t\\t\\t\\t\\t\\n\\t\\t\\t\\t\\t<a href=\"/marketindex/exchangeDetail.naver?marketindexCd=FX_CNYKRW\" class=\"graph_img\" onClick=\"clickcr(this, \\'fr1.cnyc\\', \\'\\', \\'\\', event);\">\\n\\t\\t\\t\\t\\t\\t<img src=\"https://ssl.pstatic.net/imgfinance/chart/marketindex/FX_CNYKRW.png\" alt=\"\" width=\"295\" height=\"153\">\\n\\t\\t\\t\\t\\t</a>\\n\\t\\t\\t\\t\\t\\n\\t\\t\\t\\t\\t<div class=\"graph_info\">\\n\\t\\t\\t\\t\\t\\t<span class=\"time\">2021.11.10 20:04</span>\\n\\t\\t\\t\\t\\t\\t<span class=\"source\">\\xc7\\xcf\\xb3\\xaa\\xc0\\xba\\xc7\\xe0 \\xb1\\xe2\\xc1\\xd8</span>\\n\\t\\t\\t\\t\\t\\t<span class=\"count\">\\xb0\\xed\\xbd\\xc3\\xc8\\xb8\\xc2\\xf7<span class=\"num\">252</span>\\xc8\\xb8</span>\\n\\t\\t\\t\\t\\t\\t\\t\\t\\t\\t\\t\\t\\t\\t\\n\\t\\t\\t\\t\\t</div>\\t\\t\\t\\t\\t\\t\\t\\t\\t\\t\\n\\t\\t\\t\\t</li>\\n\\t\\t\\t\\t\\t\\t\\t\\t\\n\\t\\t\\t\\t</ul>\\t\\t\\t\\t\\n\\t\\t\\t</div>\\n\\t\\t\\t<!-- //data -->\\n\\t\\t</div>\\n\\t\\t<div class=\"market2\">\\n\\t\\t\\t<div class=\"title\">\\n\\t\\t\\t\\t<h2 class=\"h_market2\"><span>\\xb1\\xb9\\xc1\\xa6 \\xbd\\xc3\\xc0\\xe5 \\xc8\\xaf\\xc0\\xb2</span></h2>\\n\\t\\t\\t</div>\\n\\t\\t\\t<!-- data -->\\n\\t\\t\\t<div class=\"data\">\\n\\t\\t\\t\\t\\n\\t\\t\\t\\t<ul class=\"data_lst\" id=\"worldExchangeList\">\\n\\t\\t\\t\\t\\n\\t\\t\\t\\t    \\n\\t\\t\\t\\t         \\n\\t\\t\\t\\t         \\n\\t\\t\\t\\t         \\n\\t\\t\\t\\t         \\t\\t\\t         \\n\\t\\t\\t\\t        \\n\\t\\t\\t\\t\\t\\n\\t\\t\\t\\t \\t<li class=\"on\">\\n\\t\\t\\t\\t\\t<a href=\"/marketindex/worldExchangeDetail.naver?marketindexCd=FX_USDJPY\" class=\"head jpy_usd\" onClick=\"clickcr(this, \\'fr2.jpyut\\', \\'\\', \\'\\', event);\">\\n\\t\\t\\t\\t\\t\\t<h3 class=\"h_lst\"><span class=\"blind\">\\xb4\\xde\\xb7\\xaf/\\xc0\\xcf\\xba\\xbb \\xbf\\xa3</span></h3>\\n\\t\\t\\t\\t\\t\\t\\n\\t\\t\\t\\t\\t\\t \\n\\t\\t\\t\\t\\t\\t\\n\\t\\t\\t\\t         \\t\\n\\t\\t\\t\\t         \\t\\n\\t\\t\\t\\t         \\t\\t\\t\\t\\t         \\t\\t\\t         \\n\\t\\t\\t\\t     \\t    \\n\\t\\t\\t\\t\\t\\t<div class=\"head_info point_dn\">\\n\\t\\t\\t\\t\\t\\t\\t<span class=\"value\">112.7400</span>\\n\\t\\t\\t\\t\\t\\t\\t\\n\\t\\t\\t\\t\\t\\t\\t\\t<span class=\"txt_jpy\"><span class=\"blind\">\\xbf\\xa3</span></span>\\n\\t\\t\\t\\t\\t\\t\\t\\n\\t\\t\\t\\t\\t\\t\\t<span class=\"change\"> 0.3900</span>\\n\\t\\t\\t\\t\\t\\t\\t<span class=\"blind\">\\xc7\\xcf\\xb6\\xf4</span>\\n\\t\\t\\t\\t\\t\\t</div>\\n\\t\\t\\t\\t\\t</a>\\n\\t\\t\\t\\t\\t\\n\\t\\t\\t\\t\\t<a href=\"/marketindex/worldExchangeDetail.naver?marketindexCd=FX_USDJPY\" class=\"graph_img\" onClick=\"clickcr(this, \\'fr2.jpyuc\\', \\'\\', \\'\\', event);\">\\n\\t\\t\\t\\t\\t\\t<img src=\"https://ssl.pstatic.net/imgfinance/chart/marketindex/FX_USDJPY.png\" alt=\"\" width=\"295\" height=\"153\">\\n\\t\\t\\t\\t\\t</a>\\n\\t\\t\\t\\t\\t\\n\\t\\t\\t\\t\\t<div class=\"graph_info\">\\n\\t\\t\\t\\t\\t\\t<span class=\"time\">2021.11.09</span>\\n\\t\\t\\t\\t\\t\\t<span class=\"source\">\\xb8\\xf0\\xb4\\xd7\\xbd\\xba\\xc5\\xb8 \\xb1\\xe2\\xc1\\xd8</span>\\n\\t\\t\\t\\t\\t</div>\\t\\t\\t\\t\\t\\t\\t\\t\\t\\t\\n\\t\\t\\t\\t</li>\\n\\t\\t\\t\\t\\n\\t\\t\\t\\t    \\n\\t\\t\\t\\t         \\n\\t\\t\\t\\t         \\n\\t\\t\\t\\t         \\n\\t\\t\\t\\t         \\t\\t\\t         \\n\\t\\t\\t\\t        \\n\\t\\t\\t\\t\\t\\n\\t\\t\\t\\t \\t<li class=\"\">\\n\\t\\t\\t\\t\\t<a href=\"/marketindex/worldExchangeDetail.naver?marketindexCd=FX_EURUSD\" class=\"head usd_eur\" onClick=\"clickcr(this, \\'fr2.eurdt\\', \\'\\', \\'\\', event);\">\\n\\t\\t\\t\\t\\t\\t<h3 class=\"h_lst\"><span class=\"blind\">\\xc0\\xaf\\xb7\\xce/\\xb4\\xde\\xb7\\xaf</span></h3>\\n\\t\\t\\t\\t\\t\\t\\n\\t\\t\\t\\t\\t\\t \\n\\t\\t\\t\\t\\t\\t\\n\\t\\t\\t\\t         \\t\\n\\t\\t\\t\\t         \\t\\n\\t\\t\\t\\t         \\t\\t\\t\\t\\t         \\t\\t\\t         \\n\\t\\t\\t\\t     \\t    \\n\\t\\t\\t\\t\\t\\t<div class=\"head_info point_up\">\\n\\t\\t\\t\\t\\t\\t\\t<span class=\"value\">1.1602</span>\\n\\t\\t\\t\\t\\t\\t\\t\\n\\t\\t\\t\\t\\t\\t\\t\\t<span class=\"txt_usd\"><span class=\"blind\">\\xb4\\xde\\xb7\\xaf</span></span>\\n\\t\\t\\t\\t\\t\\t\\t\\n\\t\\t\\t\\t\\t\\t\\t<span class=\"change\">0.0028</span>\\n\\t\\t\\t\\t\\t\\t\\t<span class=\"blind\">\\xbb\\xf3\\xbd\\xc2</span>\\n\\t\\t\\t\\t\\t\\t</div>\\n\\t\\t\\t\\t\\t</a>\\n\\t\\t\\t\\t\\t\\n\\t\\t\\t\\t\\t<a href=\"/marketindex/worldExchangeDetail.naver?marketindexCd=FX_EURUSD\" class=\"graph_img\" onClick=\"clickcr(this, \\'fr2.eurdc\\', \\'\\', \\'\\', event);\">\\n\\t\\t\\t\\t\\t\\t<img src=\"https://ssl.pstatic.net/imgfinance/chart/marketindex/FX_EURUSD.png\" alt=\"\" width=\"295\" height=\"153\">\\n\\t\\t\\t\\t\\t</a>\\n\\t\\t\\t\\t\\t\\n\\t\\t\\t\\t\\t<div class=\"graph_info\">\\n\\t\\t\\t\\t\\t\\t<span class=\"time\">2021.11.09</span>\\n\\t\\t\\t\\t\\t\\t<span class=\"source\">\\xb8\\xf0\\xb4\\xd7\\xbd\\xba\\xc5\\xb8 \\xb1\\xe2\\xc1\\xd8</span>\\n\\t\\t\\t\\t\\t</div>\\t\\t\\t\\t\\t\\t\\t\\t\\t\\t\\n\\t\\t\\t\\t</li>\\n\\t\\t\\t\\t\\n\\t\\t\\t\\t    \\n\\t\\t\\t\\t         \\n\\t\\t\\t\\t         \\n\\t\\t\\t\\t         \\n\\t\\t\\t\\t         \\t\\t\\t         \\n\\t\\t\\t\\t        \\n\\t\\t\\t\\t\\t\\n\\t\\t\\t\\t \\t<li class=\"\">\\n\\t\\t\\t\\t\\t<a href=\"/marketindex/worldExchangeDetail.naver?marketindexCd=FX_GBPUSD\" class=\"head usd_gbp\" onClick=\"clickcr(this, \\'fr2.gbpdt\\', \\'\\', \\'\\', event);\">\\n\\t\\t\\t\\t\\t\\t<h3 class=\"h_lst\"><span class=\"blind\">\\xbf\\xb5\\xb1\\xb9 \\xc6\\xc4\\xbf\\xee\\xb5\\xe5/\\xb4\\xde\\xb7\\xaf</span></h3>\\n\\t\\t\\t\\t\\t\\t\\n\\t\\t\\t\\t\\t\\t \\n\\t\\t\\t\\t\\t\\t\\n\\t\\t\\t\\t         \\t\\n\\t\\t\\t\\t         \\t\\n\\t\\t\\t\\t         \\t\\t\\t\\t\\t         \\t\\t\\t         \\n\\t\\t\\t\\t     \\t    \\n\\t\\t\\t\\t\\t\\t<div class=\"head_info point_up\">\\n\\t\\t\\t\\t\\t\\t\\t<span class=\"value\">1.3553</span>\\n\\t\\t\\t\\t\\t\\t\\t\\n\\t\\t\\t\\t\\t\\t\\t\\t<span class=\"txt_usd\"><span class=\"blind\">\\xb4\\xde\\xb7\\xaf</span></span>\\n\\t\\t\\t\\t\\t\\t\\t\\n\\t\\t\\t\\t\\t\\t\\t<span class=\"change\">0.0002</span>\\n\\t\\t\\t\\t\\t\\t\\t<span class=\"blind\">\\xbb\\xf3\\xbd\\xc2</span>\\n\\t\\t\\t\\t\\t\\t</div>\\n\\t\\t\\t\\t\\t</a>\\n\\t\\t\\t\\t\\t\\n\\t\\t\\t\\t\\t<a href=\"/marketindex/worldExchangeDetail.naver?marketindexCd=FX_GBPUSD\" class=\"graph_img\" onClick=\"clickcr(this, \\'fr2.gbpdc\\', \\'\\', \\'\\', event);\">\\n\\t\\t\\t\\t\\t\\t<img src=\"https://ssl.pstatic.net/imgfinance/chart/marketindex/FX_GBPUSD.png\" alt=\"\" width=\"295\" height=\"153\">\\n\\t\\t\\t\\t\\t</a>\\n\\t\\t\\t\\t\\t\\n\\t\\t\\t\\t\\t<div class=\"graph_info\">\\n\\t\\t\\t\\t\\t\\t<span class=\"time\">2021.11.09</span>\\n\\t\\t\\t\\t\\t\\t<span class=\"source\">\\xb8\\xf0\\xb4\\xd7\\xbd\\xba\\xc5\\xb8 \\xb1\\xe2\\xc1\\xd8</span>\\n\\t\\t\\t\\t\\t</div>\\t\\t\\t\\t\\t\\t\\t\\t\\t\\t\\n\\t\\t\\t\\t</li>\\n\\t\\t\\t\\t\\n\\t\\t\\t\\t    \\n\\t\\t\\t\\t         \\n\\t\\t\\t\\t         \\n\\t\\t\\t\\t         \\n\\t\\t\\t\\t         \\t\\t\\t         \\n\\t\\t\\t\\t        \\n\\t\\t\\t\\t\\t\\n\\t\\t\\t\\t \\t<li class=\"\">\\n\\t\\t\\t\\t\\t<a href=\"/marketindex/worldExchangeDetail.naver?marketindexCd=FX_USDX\" class=\"head usd_idx\" onClick=\"clickcr(this, \\'fr2.indt\\', \\'\\', \\'\\', event);\">\\n\\t\\t\\t\\t\\t\\t<h3 class=\"h_lst\"><span class=\"blind\">\\xb4\\xde\\xb7\\xaf\\xc0\\xce\\xb5\\xa6\\xbd\\xba</span></h3>\\n\\t\\t\\t\\t\\t\\t\\n\\t\\t\\t\\t\\t\\t \\n\\t\\t\\t\\t\\t\\t\\n\\t\\t\\t\\t         \\t\\n\\t\\t\\t\\t         \\t\\n\\t\\t\\t\\t         \\t\\t\\t\\t\\t         \\t\\t\\t         \\n\\t\\t\\t\\t     \\t    \\n\\t\\t\\t\\t\\t\\t<div class=\"head_info point_dn\">\\n\\t\\t\\t\\t\\t\\t\\t<span class=\"value\">93.9500</span>\\n\\t\\t\\t\\t\\t\\t\\t\\n\\t\\t\\t\\t\\t\\t\\t<span class=\"change\"> 0.0900</span>\\n\\t\\t\\t\\t\\t\\t\\t<span class=\"blind\">\\xc7\\xcf\\xb6\\xf4</span>\\n\\t\\t\\t\\t\\t\\t</div>\\n\\t\\t\\t\\t\\t</a>\\n\\t\\t\\t\\t\\t\\n\\t\\t\\t\\t\\t<a href=\"/marketindex/worldExchangeDetail.naver?marketindexCd=FX_USDX\" class=\"graph_img\" onClick=\"clickcr(this, \\'fr2.indc\\', \\'\\', \\'\\', event);\">\\n\\t\\t\\t\\t\\t\\t<img src=\"https://ssl.pstatic.net/imgfinance/chart/marketindex/FX_USDX.png\" alt=\"\" width=\"295\" height=\"153\">\\n\\t\\t\\t\\t\\t</a>\\n\\t\\t\\t\\t\\t\\n\\t\\t\\t\\t\\t<div class=\"graph_info\">\\n\\t\\t\\t\\t\\t\\t<span class=\"time\">2021.11.09</span>\\n\\t\\t\\t\\t\\t\\t<span class=\"source\">ICE \\xb1\\xe2\\xc1\\xd8</span>\\n\\t\\t\\t\\t\\t</div>\\t\\t\\t\\t\\t\\t\\t\\t\\t\\t\\n\\t\\t\\t\\t</li>\\n\\t\\t\\t\\t\\n\\t\\t\\t\\t</ul>\\t\\t\\t\\t\\t\\t\\t\\t\\n\\t\\t\\t</div>\\n\\t\\t\\t<!-- //data -->\\n\\t\\t</div>\\n\\t\\t<div class=\"market3\">\\n\\t\\t\\t<div class=\"title\">\\n\\t\\t\\t\\t<h2 class=\"h_market3\"><span>\\xc0\\xaf\\xb0\\xa1&middot;\\xb1\\xdd\\xbd\\xc3\\xbc\\xbc</span></h2>\\n\\t\\t\\t</div>\\n\\t\\t\\t<!-- data -->\\n\\t\\t\\t<div class=\"data\">\\n\\t\\t\\t\\t\\n\\t\\t\\t\\t<ul class=\"data_lst\" id=\"oilGoldList\">\\n\\t\\t\\t\\t\\n\\t\\t\\t\\t\\t\\n\\t\\t\\t\\t\\t\\t\\n\\t\\t\\t\\t\\t\\t\\n\\t\\t\\t\\t\\t    \\n\\t\\t\\t\\t\\t\\t\\n\\t\\t\\t\\t\\t    \\t\\n\\t\\t\\t\\t\\t<li class=\"on\">\\n   \\t\\t\\t\\t   \\t<a href=\"/marketindex/worldOilDetail.naver?marketindexCd=OIL_CL&fdtc=2\" class=\"head wti\" onClick=\"clickcr(this, \\'fr3.wtit\\', \\'\\', \\'\\', event);\">\\n\\t\\t\\t\\t\\t\\t<h3 class=\"h_lst\"><span class=\"blind\">WTI</span></h3>\\n\\t\\t\\t\\t\\t\\t \\n\\t\\t\\t\\t\\t\\t\\n\\t\\t\\t\\t         \\t\\n\\t\\t\\t\\t         \\t\\n\\t\\t\\t\\t         \\t\\t\\t\\t\\t         \\t\\t\\t         \\n\\t\\t\\t\\t     \\t    \\n\\t\\t\\t\\t\\t\\t<div class=\"head_info point_up\">\\n\\t\\t\\t\\t\\t\\t\\t<span class=\"value\">84.15</span>\\n\\t\\t\\t\\t\\t\\t\\t<span class=\"txt_usd\"><span class=\"blind\">\\xb4\\xde\\xb7\\xaf</span></span>\\n\\t\\t\\t\\t\\t\\t\\t<span class=\"change\">2.22</span>\\n\\t\\t\\t\\t\\t\\t\\t<span class=\"blind\">\\xbb\\xf3\\xbd\\xc2</span>\\n\\t\\t\\t\\t\\t\\t</div>\\n\\t\\t\\t\\t\\t</a>\\n\\t\\t\\t\\t\\t\\n\\t\\t\\t\\t\\t<a href=\"/marketindex/worldOilDetail.naver?marketindexCd=OIL_CL&fdtc=2\" class=\"graph_img\" onClick=\"clickcr(this, \\'fr3.wtic\\', \\'\\', \\'\\', event);\">\\n\\t\\t\\t\\t\\t\\t<img src=\"https://ssl.pstatic.net/imgfinance/chart/marketindex/OIL_CL.png\" alt=\"\" width=\"295\" height=\"153\">\\n\\t\\t\\t\\t\\t</a>\\n\\t\\t\\t\\t\\t\\n\\t\\t\\t\\t\\t<div class=\"graph_info\">\\n\\t\\t\\t\\t\\t\\t\\t<span class=\"time\">2021.11.09</span>\\n\\t\\t\\t\\t\\t\\t\\t<span class=\"source\">NYMEX(\\xb4\\xba\\xbf\\xe5\\xbb\\xf3\\xbe\\xf7\\xb0\\xc5\\xb7\\xa1\\xbc\\xd2) \\xb1\\xe2\\xc1\\xd8</span>\\n\\t\\t\\t\\t\\t\\t\\t\\t\\t\\t\\n\\t\\t\\t\\t\\t</div>\\t\\t\\t\\t\\t\\t\\t\\t\\t\\t\\t\\n\\t\\t\\t\\t</li>\\n\\t\\t\\t\\t\\n\\t\\t\\t\\t\\t\\n\\t\\t\\t\\t\\t\\t\\n\\t\\t\\t\\t\\t\\t\\n\\t\\t\\t\\t\\t    \\n\\t\\t\\t\\t\\t\\t\\n\\t\\t\\t\\t\\t    \\t\\n\\t\\t\\t\\t\\t<li class=\"\">\\n   \\t\\t\\t\\t   \\t<a href=\"/marketindex/oilDetail.naver?marketindexCd=OIL_GSL\" class=\"head gasoline\" onClick=\"clickcr(this, \\'fr3.oilt\\', \\'\\', \\'\\', event);\">\\n\\t\\t\\t\\t\\t\\t<h3 class=\"h_lst\"><span class=\"blind\">\\xc8\\xd6\\xb9\\xdf\\xc0\\xaf</span></h3>\\n\\t\\t\\t\\t\\t\\t \\n\\t\\t\\t\\t\\t\\t\\n\\t\\t\\t\\t         \\t\\n\\t\\t\\t\\t         \\t\\n\\t\\t\\t\\t         \\t\\t\\t\\t\\t         \\t\\t\\t         \\n\\t\\t\\t\\t     \\t    \\n\\t\\t\\t\\t\\t\\t<div class=\"head_info point_up\">\\n\\t\\t\\t\\t\\t\\t\\t<span class=\"value\">1809.11</span>\\n\\t\\t\\t\\t\\t\\t\\t<span class=\"txt_krw\"><span class=\"blind\">\\xbf\\xf8</span></span>\\n\\t\\t\\t\\t\\t\\t\\t<span class=\"change\">1.64</span>\\n\\t\\t\\t\\t\\t\\t\\t<span class=\"blind\">\\xbb\\xf3\\xbd\\xc2</span>\\n\\t\\t\\t\\t\\t\\t</div>\\n\\t\\t\\t\\t\\t</a>\\n\\t\\t\\t\\t\\t\\n\\t\\t\\t\\t\\t<a href=\"/marketindex/oilDetail.naver?marketindexCd=OIL_GSL\" class=\"graph_img\" onClick=\"clickcr(this, \\'fr3.oilc\\', \\'\\', \\'\\', event);\">\\n\\t\\t\\t\\t\\t\\t<img src=\"https://ssl.pstatic.net/imgfinance/chart/marketindex/OIL_GSL.png\" alt=\"\" width=\"295\" height=\"153\">\\n\\t\\t\\t\\t\\t</a>\\n\\t\\t\\t\\t\\t\\n\\t\\t\\t\\t\\t<div class=\"graph_info\">\\n\\t\\t\\t\\t\\t\\t\\t<span class=\"time\">2021.11.10</span>\\n\\t\\t\\t\\t\\t\\t\\t<span class=\"source\">\\xc7\\xd1\\xb1\\xb9\\xbc\\xae\\xc0\\xaf\\xb0\\xf8\\xbb\\xe7 Opinet \\xb1\\xe2\\xc1\\xd8</span>\\n\\t\\t\\t\\t\\t\\t\\t\\t\\t\\t\\n\\t\\t\\t\\t\\t</div>\\t\\t\\t\\t\\t\\t\\t\\t\\t\\t\\t\\n\\t\\t\\t\\t</li>\\n\\t\\t\\t\\t\\n\\t\\t\\t\\t\\t\\n\\t\\t\\t\\t\\t\\t\\n\\t\\t\\t\\t\\t\\t\\n\\t\\t\\t\\t\\t    \\n\\t\\t\\t\\t\\t\\t\\n\\t\\t\\t\\t\\t    \\t\\n\\t\\t\\t\\t\\t<li class=\"\">\\n   \\t\\t\\t\\t   \\t<a href=\"/marketindex/worldGoldDetail.naver?marketindexCd=CMDT_GC&fdtc=2\" class=\"head gold_inter\" onClick=\"clickcr(this, \\'fr3.agoldt\\', \\'\\', \\'\\', event);\">\\n\\t\\t\\t\\t\\t\\t<h3 class=\"h_lst\"><span class=\"blind\">\\xb1\\xb9\\xc1\\xa6 \\xb1\\xdd</span></h3>\\n\\t\\t\\t\\t\\t\\t \\n\\t\\t\\t\\t\\t\\t\\n\\t\\t\\t\\t         \\t\\n\\t\\t\\t\\t         \\t\\n\\t\\t\\t\\t         \\t\\t\\t\\t\\t         \\t\\t\\t         \\n\\t\\t\\t\\t     \\t    \\n\\t\\t\\t\\t\\t\\t<div class=\"head_info point_up\">\\n\\t\\t\\t\\t\\t\\t\\t<span class=\"value\">1830.2</span>\\n\\t\\t\\t\\t\\t\\t\\t<span class=\"txt_usd\"><span class=\"blind\">\\xb4\\xde\\xb7\\xaf</span></span>\\n\\t\\t\\t\\t\\t\\t\\t<span class=\"change\">2.80</span>\\n\\t\\t\\t\\t\\t\\t\\t<span class=\"blind\">\\xbb\\xf3\\xbd\\xc2</span>\\n\\t\\t\\t\\t\\t\\t</div>\\n\\t\\t\\t\\t\\t</a>\\n\\t\\t\\t\\t\\t\\n\\t\\t\\t\\t\\t<a href=\"/marketindex/worldGoldDetail.naver?marketindexCd=CMDT_GC&fdtc=2\" class=\"graph_img\" onClick=\"clickcr(this, \\'fr3.agoldc\\', \\'\\', \\'\\', event);\">\\n\\t\\t\\t\\t\\t\\t<img src=\"https://ssl.pstatic.net/imgfinance/chart/marketindex/CMDT_GC.png\" alt=\"\" width=\"295\" height=\"153\">\\n\\t\\t\\t\\t\\t</a>\\n\\t\\t\\t\\t\\t\\n\\t\\t\\t\\t\\t<div class=\"graph_info\">\\n\\t\\t\\t\\t\\t\\t\\t<span class=\"time\">2021.11.09</span>\\n\\t\\t\\t\\t\\t\\t\\t<span class=\"source\">COMEX(\\xb4\\xba\\xbf\\xe5\\xbb\\xf3\\xc7\\xb0\\xb0\\xc5\\xb7\\xa1\\xbc\\xd2) \\xb1\\xe2\\xc1\\xd8</span>\\n\\t\\t\\t\\t\\t\\t\\t\\t\\t\\t\\n\\t\\t\\t\\t\\t</div>\\t\\t\\t\\t\\t\\t\\t\\t\\t\\t\\t\\n\\t\\t\\t\\t</li>\\n\\t\\t\\t\\t\\n\\t\\t\\t\\t\\t\\n\\t\\t\\t\\t\\t\\t\\n\\t\\t\\t\\t\\t\\t\\n\\t\\t\\t\\t\\t    \\n\\t\\t\\t\\t\\t\\t\\n\\t\\t\\t\\t\\t    \\t\\n\\t\\t\\t\\t\\t<li class=\"\">\\n   \\t\\t\\t\\t   \\t<a href=\"/marketindex/goldDetail.naver\" class=\"head gold_domestic\" onClick=\"clickcr(this, \\'fr3.kgoldt\\', \\'\\', \\'\\', event);\">\\n\\t\\t\\t\\t\\t\\t<h3 class=\"h_lst\"><span class=\"blind\">\\xb1\\xb9\\xb3\\xbb \\xb1\\xdd</span></h3>\\n\\t\\t\\t\\t\\t\\t \\n\\t\\t\\t\\t\\t\\t\\n\\t\\t\\t\\t         \\t\\n\\t\\t\\t\\t         \\t\\n\\t\\t\\t\\t         \\t\\t\\t\\t\\t         \\t\\t\\t         \\n\\t\\t\\t\\t     \\t    \\n\\t\\t\\t\\t\\t\\t<div class=\"head_info point_up\">\\n\\t\\t\\t\\t\\t\\t\\t<span class=\"value\">69195.62</span>\\n\\t\\t\\t\\t\\t\\t\\t<span class=\"txt_krw\"><span class=\"blind\">\\xbf\\xf8</span></span>\\n\\t\\t\\t\\t\\t\\t\\t<span class=\"change\">223.22</span>\\n\\t\\t\\t\\t\\t\\t\\t<span class=\"blind\">\\xbb\\xf3\\xbd\\xc2</span>\\n\\t\\t\\t\\t\\t\\t</div>\\n\\t\\t\\t\\t\\t</a>\\n\\t\\t\\t\\t\\t\\n\\t\\t\\t\\t\\t<a href=\"/marketindex/goldDetail.naver\" class=\"graph_img\" onClick=\"clickcr(this, \\'fr3.kgoldc\\', \\'\\', \\'\\', event);\">\\n\\t\\t\\t\\t\\t\\t<img src=\"https://ssl.pstatic.net/imgfinance/chart/marketindex/CMDT_GD.png\" alt=\"\" width=\"295\" height=\"153\">\\n\\t\\t\\t\\t\\t</a>\\n\\t\\t\\t\\t\\t\\n\\t\\t\\t\\t\\t<div class=\"graph_info\">\\n\\t\\t\\t\\t\\t\\t\\t<span class=\"time\">2021.11.10 17:59</span>\\n\\t\\t\\t\\t\\t\\t\\t<span class=\"source\">\\xbd\\xc5\\xc7\\xd1\\xc0\\xba\\xc7\\xe0 \\xb1\\xe2\\xc1\\xd8</span>\\n\\t\\t\\t\\t\\t\\t\\t(<span class=\"num\">102</span>\\xc8\\xb8\\xc2\\xf7)\\t\\t\\t\\n\\t\\t\\t\\t\\t</div>\\t\\t\\t\\t\\t\\t\\t\\t\\t\\t\\t\\n\\t\\t\\t\\t</li>\\n\\t\\t\\t\\t\\n\\t\\t\\t\\t</ul>\\t\\t\\t\\t\\t\\t\\t\\t\\n\\t\\t\\t</div>\\n\\t\\t\\t<!-- //data -->\\n\\t\\t</div>\\n\\t</div>\\n</div>\\t\\n<div id=\"content\" class=\"marketindex_content\">\\n\\t<div class=\"section_news\">\\n\\t\\t<h3 class=\"h_news2\"><span>\\xc1\\xd6\\xbf\\xe4 \\xb4\\xba\\xbd\\xba</span></h3>\\n\\t\\t<div class=\"list_area\">\\n\\t\\t<ul>\\n\\t\\t\\t\\n\\t\\t\\t<li>\\n\\t\\t\\t\\t<p><a href=\"/marketindex/news/newsRead.naver?officeId=055&articleId=0000932654&category=\" onClick=\"clickcr(this, \\'mhn.list\\', \\'055_0000932654\\', \\'0\\', event);\">\\xc1\\xdf\\xb1\\xb9\\xb8\\xb8 \\xb9\\xd9\\xb6\\xf3\\xba\\xb8\\xb4\\xc2 \\xbf\\xf8\\xc0\\xda\\xc0\\xe7 \\xbc\\xf6\\xb5\\xce\\xb7\\xe8\\xa1\\xa6\\xb1\\xd9\\xba\\xbb \\xb4\\xeb\\xc3\\xa5 </a><img src=\"https://ssl.pstatic.net/static/nfinance/ico_new.gif\" width=\"8\" height=\"8\" alt=\"NEW\"></p>\\n\\t\\t\\t\\t<span>11.10 20:07</span>\\n\\t\\t\\t</li>\\n\\t\\t\\t\\n\\t\\t\\t<li>\\n\\t\\t\\t\\t<p><a href=\"/marketindex/news/newsRead.naver?officeId=422&articleId=0000513361&category=\" onClick=\"clickcr(this, \\'mhn.list\\', \\'422_0000513361\\', \\'1\\', event);\">\\xb4\\xd9 \\xb2\\xf8\\xbe\\xee\\xb8\\xf0\\xbe\\xc6\\xb5\\xb5 \\xbc\\xae \\xb4\\xde\\xc4\\xa1\\xa1\\xa6\"\\xc1\\xd6\\xbf\\xe4 \\xbf\\xf8\\xc0\\xda\\xc0\\xe7\\xb5\\xb5 \\xbe\\xc8</a><img src=\"https://ssl.pstatic.net/static/nfinance/ico_new.gif\" width=\"8\" height=\"8\" alt=\"NEW\"></p>\\n\\t\\t\\t\\t<span>11.10 19:50</span>\\n\\t\\t\\t</li>\\n\\t\\t\\t\\n\\t\\t\\t<li>\\n\\t\\t\\t\\t<p><a href=\"/marketindex/news/newsRead.naver?officeId=018&articleId=0005082847&category=\" onClick=\"clickcr(this, \\'mhn.list\\', \\'018_0005082847\\', \\'2\\', event);\">[\\xbf\\xdc\\xc8\\xaf\\xb8\\xb6\\xb0\\xa8]\\xb0\\xad\\xb4\\xde\\xb7\\xaf \\xc0\\xfc\\xc8\\xaf+\\xb1\\xb9\\xb3\\xbb\\xc1\\xf5\\xbd\\xc3 \\xba\\xce\\xc1\\xf8\\xa1\\xa6\\xc0\\xcc\\xc6\\xb2</a><img src=\"https://ssl.pstatic.net/static/nfinance/ico_new.gif\" width=\"8\" height=\"8\" alt=\"NEW\"></p>\\n\\t\\t\\t\\t<span>11.10 15:56</span>\\n\\t\\t\\t</li>\\n\\t\\t\\t\\n\\t\\t\\t<li>\\n\\t\\t\\t\\t<p><a href=\"/marketindex/news/newsRead.naver?officeId=014&articleId=0004737499&category=\" onClick=\"clickcr(this, \\'mhn.list\\', \\'014_0004737499\\', \\'3\\', event);\">\\xbf\\xf8\\xc0\\xda\\xc0\\xe7 \\xb0\\xa1\\xb0\\xdd \\xb1\\xde\\xb5\\xee \\xbc\\xd3 \\xf1\\xe9\\xbb\\xfd\\xbb\\xea\\xc0\\xda \\xb9\\xb0\\xb0\\xa1 \\xbb\\xe7\\xbb\\xf3 </a><img src=\"https://ssl.pstatic.net/static/nfinance/ico_new.gif\" width=\"8\" height=\"8\" alt=\"NEW\"></p>\\n\\t\\t\\t\\t<span>11.10 15:44</span>\\n\\t\\t\\t</li>\\n\\t\\t\\t\\n\\t\\t\\t<li>\\n\\t\\t\\t\\t<p><a href=\"/marketindex/news/newsRead.naver?officeId=421&articleId=0005714743&category=\" onClick=\"clickcr(this, \\'mhn.list\\', \\'421_0005714743\\', \\'4\\', event);\">\\'\\xbf\\xf8\\xc0\\xda\\xc0\\xe7 \\xb1\\xde\\xb5\\xee\\'\\xbf\\xa1\\xb5\\xb5 \\xbf\\xc0\\xb8\\xae\\xbf\\xc2, \\xb8\\xc5\\xc3\\xe2\\xa1\\xa4\\xbf\\xb5\\xbe\\xf7\\xc0\\xcd </a><img src=\"https://ssl.pstatic.net/static/nfinance/ico_new.gif\" width=\"8\" height=\"8\" alt=\"NEW\"></p>\\n\\t\\t\\t\\t<span>11.10 15:31</span>\\n\\t\\t\\t</li>\\n\\t\\t\\t\\n\\t\\t\\t<li>\\n\\t\\t\\t\\t<p><a href=\"/marketindex/news/newsRead.naver?officeId=001&articleId=0012783295&category=\" onClick=\"clickcr(this, \\'mhn.list\\', \\'001_0012783295\\', \\'5\\', event);\">\\xc1\\xa6\\xc1\\xd6 \\xb1\\xe2\\xb8\\xa7\\xb0\\xaa \\xc0\\xfc\\xb1\\xb9 \\xc3\\xd6\\xb0\\xed\\xb0\\xa1</a><img src=\"https://ssl.pstatic.net/static/nfinance/ico_new.gif\" width=\"8\" height=\"8\" alt=\"NEW\"></p>\\n\\t\\t\\t\\t<span>11.10 15:13</span>\\n\\t\\t\\t</li>\\n\\t\\t\\t\\n\\t\\t\\t<li>\\n\\t\\t\\t\\t<p><a href=\"/marketindex/news/newsRead.naver?officeId=001&articleId=0012783297&category=\" onClick=\"clickcr(this, \\'mhn.list\\', \\'001_0012783297\\', \\'6\\', event);\">\\xc1\\xa6\\xc1\\xd6 \\xb1\\xe2\\xb8\\xa7\\xb0\\xaa \\xc0\\xfc\\xb1\\xb9 \\xc3\\xd6\\xb0\\xed\\xb0\\xa1</a><img src=\"https://ssl.pstatic.net/static/nfinance/ico_new.gif\" width=\"8\" height=\"8\" alt=\"NEW\"></p>\\n\\t\\t\\t\\t<span>11.10 15:13</span>\\n\\t\\t\\t</li>\\n\\t\\t\\t\\n\\t\\t\\t<li>\\n\\t\\t\\t\\t<p><a href=\"/marketindex/news/newsRead.naver?officeId=001&articleId=0012783271&category=\" onClick=\"clickcr(this, \\'mhn.list\\', \\'001_0012783271\\', \\'7\\', event);\">\\xbf\\xc0\\xb8\\xae\\xbf\\xc2 3\\xba\\xd0\\xb1\\xe2 \\xbf\\xb5\\xbe\\xf7\\xc0\\xcc\\xc0\\xcd 1\\xc3\\xb5142\\xbe\\xef\\xbf\\xf8\\xa1\\xa6\\xbf\\xf8\\xc0\\xda</a><img src=\"https://ssl.pstatic.net/static/nfinance/ico_new.gif\" width=\"8\" height=\"8\" alt=\"NEW\"></p>\\n\\t\\t\\t\\t<span>11.10 15:08</span>\\n\\t\\t\\t</li>\\n\\t\\t\\t\\n\\t\\t\\t<li>\\n\\t\\t\\t\\t<p><a href=\"/marketindex/news/newsRead.naver?officeId=011&articleId=0003983669&category=\" onClick=\"clickcr(this, \\'mhn.list\\', \\'011_0003983669\\', \\'8\\', event);\">\\'\\xbd\\xba\\xb3\\xbc \\xb0\\xad\\xc0\\xda\\' \\xbf\\xc0\\xb8\\xae\\xbf\\xc2, \\xbf\\xf8\\xc0\\xda\\xc0\\xe7 \\xbb\\xf3\\xbd\\xc2 \\xbc\\xd3\\xbf\\xa1\\xb5\\xb5</a><img src=\"https://ssl.pstatic.net/static/nfinance/ico_new.gif\" width=\"8\" height=\"8\" alt=\"NEW\"></p>\\n\\t\\t\\t\\t<span>11.10 15:01</span>\\n\\t\\t\\t</li>\\n\\t\\t\\t\\n\\t\\t\\t<li>\\n\\t\\t\\t\\t<p><a href=\"/marketindex/news/newsRead.naver?officeId=003&articleId=0010823476&category=\" onClick=\"clickcr(this, \\'mhn.list\\', \\'003_0010823476\\', \\'9\\', event);\">[\\xbf\\xc3\\xb4\\xf1\\xc2\\xf7\\xc0\\xcc\\xb3\\xaa] \\xc8\\xab\\xc4\\xe1 \\xc1\\xf5\\xbd\\xc3, \\xb4\\xba\\xbf\\xe5 \\xc1\\xf5\\xbd\\xc3 \\xbe\\xe0\\xbc\\xbc</a><img src=\"https://ssl.pstatic.net/static/nfinance/ico_new.gif\" width=\"8\" height=\"8\" alt=\"NEW\"></p>\\n\\t\\t\\t\\t<span>11.10 12:10</span>\\n\\t\\t\\t</li>\\n\\t\\t\\t\\n\\t\\t</ul>\\n\\t\\t</div>\\n\\t\\t<a href=\"/marketindex/news/newsList.naver\" class=\"btn_more\" onClick=\"clickcr(this, \\'mhn.more\\', \\'\\', \\'\\', event);\"><img src=\"https://ssl.pstatic.net/static/nfinance/btn_more.gif\" width=\"34\" height=\"18\" alt=\"\\xb4\\xf5\\xba\\xb8\\xb1\\xe2\"></a>\\n\\t</div>\\n\\t\\n\\t<div class=\"tab_default1\" id=\"tab_section\">\\n            <ul>\\n            <li class=\"on\"><a href=\"./?tabSel=exchange#tab_section\" onClick=\"clickcr(this, \\'mtb.exnoti\\', \\'\\', \\'\\', event);\"><span class=\"tab1\">\\xc8\\xaf\\xc0\\xfc\\xb0\\xed\\xbd\\xc3 \\xc8\\xaf\\xc0\\xb2</span></a></li>\\n            <li class=\"\"><a href=\"./?tabSel=worldExchange#tab_section\" onClick=\"clickcr(this, \\'mtb.interex\\', \\'\\', \\'\\', event);\"><span class=\"tab2\">\\xb1\\xb9\\xc1\\xa6\\xbd\\xc3\\xc0\\xe5 \\xc8\\xaf\\xc0\\xb2</span></a></li>\\n            <li class=\"\"><a href=\"./?tabSel=gold#tab_section\" onClick=\"clickcr(this, \\'mtb.oilgold\\', \\'\\', \\'\\', event);\"><span class=\"tab3\">\\xc0\\xaf\\xb0\\xa1 \\xb1\\xdd\\xbd\\xc3\\xbc\\xbc</span></a></li>\\n            <li class=\"\"><a href=\"./?tabSel=materials#tab_section\" onClick=\"clickcr(this, \\'mtb.material\\', \\'\\', \\'\\', event);\"><span class=\"tab4\">\\xbf\\xf8\\xc0\\xda\\xc0\\xe7</span></a></li>\\n            </ul>\\n            <h2 class=\"blind\">\\xc8\\xaf\\xc0\\xfc\\xb0\\xed\\xbd\\xc3 \\xc8\\xaf\\xc0\\xb2</h2>\\n    </div>\\n\\t\\n<div class=\"section_calculator\">\\n\\t<h3 class=\"h_calculator\"><span>\\xc8\\xaf\\xc0\\xb2\\xb0\\xe8\\xbb\\xea\\xb1\\xe2 (\\xb8\\xc5\\xb8\\xc5\\xb1\\xe2\\xc1\\xd8\\xc0\\xb2 \\xb1\\xe2\\xc1\\xd8)</span></h3>\\n\\t<div class=\"calculator\">\\n\\t\\t<div class=\"inner\">\\n\\t\\t\\t<div class=\"input\">\\n\\t\\t\\t\\t<div id=\"sInput\" class=\"selectbox-noscript\">\\n\\t\\t\\t\\t\\t<select id=\"select_from\" class=\"selectbox-source\">\\n\\t\\t\\t\\t\\t\\t<option value=\"1\" label=\"1\">\\xb4\\xeb\\xc7\\xd1\\xb9\\xce\\xb1\\xb9 \\xbf\\xf8 KRW</option>\\n\\t\\t\\t\\t\\t\\t\\n\\t\\t\\t\\t\\t\\t\\t\\n\\t\\t\\t\\t\\t\\t\\t \\n\\t\\t\\t\\t\\t\\t\\t <option value=\"1179.0\" label=\"1\" class=\"selectbox-default\" selected=\"selected\"> \\xb9\\xcc\\xb1\\xb9 \\xb4\\xde\\xb7\\xaf USD</option>  \\n\\t\\t\\t\\t\\t\\t\\t\\n\\t\\t\\t\\t\\t\\t\\t<option value=\"1179.0\" label=\"1\"> \\xb9\\xcc\\xb1\\xb9 \\xb4\\xde\\xb7\\xaf USD</option>\\n\\t\\t\\t\\t\\t\\t\\n\\t\\t\\t\\t\\t\\t\\t\\n\\t\\t\\t\\t\\t\\t\\t\\n\\t\\t\\t\\t\\t\\t\\t<option value=\"1363.93\" label=\"1\"> \\xc0\\xaf\\xb7\\xb4\\xbf\\xac\\xc7\\xd5 \\xc0\\xaf\\xb7\\xce EUR</option>\\n\\t\\t\\t\\t\\t\\t\\n\\t\\t\\t\\t\\t\\t\\t\\n\\t\\t\\t\\t\\t\\t\\t\\n\\t\\t\\t\\t\\t\\t\\t<option value=\"10.4157\" label=\"100\"> \\xc0\\xcf\\xba\\xbb \\xbf\\xa3 JPY</option>\\n\\t\\t\\t\\t\\t\\t\\n\\t\\t\\t\\t\\t\\t\\t\\n\\t\\t\\t\\t\\t\\t\\t\\n\\t\\t\\t\\t\\t\\t\\t<option value=\"184.52\" label=\"1\"> \\xc1\\xdf\\xb1\\xb9 \\xc0\\xa7\\xbe\\xc8 CNY</option>\\n\\t\\t\\t\\t\\t\\t\\n\\t\\t\\t\\t\\t\\t\\t\\n\\t\\t\\t\\t\\t\\t\\t\\n\\t\\t\\t\\t\\t\\t\\t<option value=\"151.35\" label=\"1\"> \\xc8\\xab\\xc4\\xe1 \\xb4\\xde\\xb7\\xaf HKD</option>\\n\\t\\t\\t\\t\\t\\t\\n\\t\\t\\t\\t\\t\\t\\t\\n\\t\\t\\t\\t\\t\\t\\t\\n\\t\\t\\t\\t\\t\\t\\t<option value=\"42.51\" label=\"1\"> \\xb4\\xeb\\xb8\\xb8 \\xb4\\xde\\xb7\\xaf TWD</option>\\n\\t\\t\\t\\t\\t\\t\\n\\t\\t\\t\\t\\t\\t\\t\\n\\t\\t\\t\\t\\t\\t\\t\\n\\t\\t\\t\\t\\t\\t\\t<option value=\"1595.13\" label=\"1\"> \\xbf\\xb5\\xb1\\xb9 \\xc6\\xc4\\xbf\\xee\\xb5\\xe5 GBP</option>\\n\\t\\t\\t\\t\\t\\t\\n\\t\\t\\t\\t\\t\\t\\t\\n\\t\\t\\t\\t\\t\\t\\t\\n\\t\\t\\t\\t\\t\\t\\t<option value=\"3062.42\" label=\"1\"> \\xbf\\xc0\\xb8\\xb8 \\xb8\\xae\\xbe\\xcb OMR</option>\\n\\t\\t\\t\\t\\t\\t\\n\\t\\t\\t\\t\\t\\t\\t\\n\\t\\t\\t\\t\\t\\t\\t\\n\\t\\t\\t\\t\\t\\t\\t<option value=\"949.05\" label=\"1\"> \\xc4\\xb3\\xb3\\xaa\\xb4\\xd9 \\xb4\\xde\\xb7\\xaf CAD</option>\\n\\t\\t\\t\\t\\t\\t\\n\\t\\t\\t\\t\\t\\t\\t\\n\\t\\t\\t\\t\\t\\t\\t\\n\\t\\t\\t\\t\\t\\t\\t<option value=\"1291.49\" label=\"1\"> \\xbd\\xba\\xc0\\xa7\\xbd\\xba \\xc7\\xc1\\xb6\\xfb CHF</option>\\n\\t\\t\\t\\t\\t\\t\\n\\t\\t\\t\\t\\t\\t\\t\\n\\t\\t\\t\\t\\t\\t\\t\\n\\t\\t\\t\\t\\t\\t\\t<option value=\"137.02\" label=\"1\"> \\xbd\\xba\\xbf\\xfe\\xb5\\xa7 \\xc5\\xa9\\xb7\\xce\\xb3\\xaa SEK</option>\\n\\t\\t\\t\\t\\t\\t\\n\\t\\t\\t\\t\\t\\t\\t\\n\\t\\t\\t\\t\\t\\t\\t\\n\\t\\t\\t\\t\\t\\t\\t<option value=\"868.22\" label=\"1\"> \\xc8\\xa3\\xc1\\xd6 \\xb4\\xde\\xb7\\xaf AUD</option>\\n\\t\\t\\t\\t\\t\\t\\n\\t\\t\\t\\t\\t\\t\\t\\n\\t\\t\\t\\t\\t\\t\\t\\n\\t\\t\\t\\t\\t\\t\\t<option value=\"836.74\" label=\"1\"> \\xb4\\xba\\xc1\\xfa\\xb7\\xa3\\xb5\\xe5 \\xb4\\xde\\xb7\\xaf NZD</option>\\n\\t\\t\\t\\t\\t\\t\\n\\t\\t\\t\\t\\t\\t\\t\\n\\t\\t\\t\\t\\t\\t\\t\\n\\t\\t\\t\\t\\t\\t\\t<option value=\"54.12\" label=\"1\"> \\xc3\\xbc\\xc4\\xda \\xc4\\xda\\xb7\\xe7\\xb3\\xaa CZK</option>\\n\\t\\t\\t\\t\\t\\t\\n\\t\\t\\t\\t\\t\\t\\t\\n\\t\\t\\t\\t\\t\\t\\t\\n\\t\\t\\t\\t\\t\\t\\t<option value=\"1.49\" label=\"1\"> \\xc4\\xa5\\xb7\\xb9 \\xc6\\xe4\\xbc\\xd2 CLP</option>\\n\\t\\t\\t\\t\\t\\t\\n\\t\\t\\t\\t\\t\\t\\t\\n\\t\\t\\t\\t\\t\\t\\t\\n\\t\\t\\t\\t\\t\\t\\t<option value=\"120.19\" label=\"1\"> \\xc5\\xcd\\xc5\\xb0 \\xb8\\xae\\xb6\\xf3 TRY</option>\\n\\t\\t\\t\\t\\t\\t\\n\\t\\t\\t\\t\\t\\t\\t\\n\\t\\t\\t\\t\\t\\t\\t\\n\\t\\t\\t\\t\\t\\t\\t<option value=\"0.41\" label=\"1\"> \\xb8\\xf9\\xb0\\xf1 \\xc5\\xf5\\xb1\\xd7\\xb8\\xaf MNT</option>\\n\\t\\t\\t\\t\\t\\t\\n\\t\\t\\t\\t\\t\\t\\t\\n\\t\\t\\t\\t\\t\\t\\t\\n\\t\\t\\t\\t\\t\\t\\t<option value=\"379.56\" label=\"1\"> \\xc0\\xcc\\xbd\\xba\\xb6\\xf3\\xbf\\xa4 \\xbc\\xbc\\xc4\\xcc ILS</option>\\n\\t\\t\\t\\t\\t\\t\\n\\t\\t\\t\\t\\t\\t\\t\\n\\t\\t\\t\\t\\t\\t\\t\\n\\t\\t\\t\\t\\t\\t\\t<option value=\"183.38\" label=\"1\"> \\xb5\\xa7\\xb8\\xb6\\xc5\\xa9 \\xc5\\xa9\\xb7\\xce\\xb3\\xd7 DKK</option>\\n\\t\\t\\t\\t\\t\\t\\n\\t\\t\\t\\t\\t\\t\\t\\n\\t\\t\\t\\t\\t\\t\\t\\n\\t\\t\\t\\t\\t\\t\\t<option value=\"138.15\" label=\"1\"> \\xb3\\xeb\\xb8\\xa3\\xbf\\xfe\\xc0\\xcc \\xc5\\xa9\\xb7\\xce\\xb3\\xd7 NOK</option>\\n\\t\\t\\t\\t\\t\\t\\n\\t\\t\\t\\t\\t\\t\\t\\n\\t\\t\\t\\t\\t\\t\\t\\n\\t\\t\\t\\t\\t\\t\\t<option value=\"314.35\" label=\"1\"> \\xbb\\xe7\\xbf\\xec\\xb5\\xf0\\xbe\\xc6\\xb6\\xf3\\xba\\xf1\\xbe\\xc6 \\xb8\\xae\\xbe\\xe2 SAR</option>\\n\\t\\t\\t\\t\\t\\t\\n\\t\\t\\t\\t\\t\\t\\t\\n\\t\\t\\t\\t\\t\\t\\t\\n\\t\\t\\t\\t\\t\\t\\t<option value=\"3907.86\" label=\"1\"> \\xc4\\xed\\xbf\\xfe\\xc0\\xcc\\xc6\\xae \\xb5\\xf0\\xb3\\xaa\\xb8\\xa3 KWD</option>\\n\\t\\t\\t\\t\\t\\t\\n\\t\\t\\t\\t\\t\\t\\t\\n\\t\\t\\t\\t\\t\\t\\t\\n\\t\\t\\t\\t\\t\\t\\t<option value=\"3127.07\" label=\"1\"> \\xb9\\xd9\\xb7\\xb9\\xc0\\xce \\xb5\\xf0\\xb3\\xaa\\xb8\\xa3 BHD</option>\\n\\t\\t\\t\\t\\t\\t\\n\\t\\t\\t\\t\\t\\t\\t\\n\\t\\t\\t\\t\\t\\t\\t\\n\\t\\t\\t\\t\\t\\t\\t<option value=\"320.98\" label=\"1\"> \\xbe\\xc6\\xb6\\xf8\\xbf\\xa1\\xb9\\xcc\\xb8\\xae\\xc6\\xae \\xb5\\xf0\\xb8\\xa3\\xc7\\xd4 AED</option>\\n\\t\\t\\t\\t\\t\\t\\n\\t\\t\\t\\t\\t\\t\\t\\n\\t\\t\\t\\t\\t\\t\\t\\n\\t\\t\\t\\t\\t\\t\\t<option value=\"1662.91\" label=\"1\"> \\xbf\\xe4\\xb8\\xa3\\xb4\\xdc \\xb5\\xf0\\xb3\\xaa\\xb8\\xa3 JOD</option>\\n\\t\\t\\t\\t\\t\\t\\n\\t\\t\\t\\t\\t\\t\\t\\n\\t\\t\\t\\t\\t\\t\\t\\n\\t\\t\\t\\t\\t\\t\\t<option value=\"75.05\" label=\"1\"> \\xc0\\xcc\\xc1\\xfd\\xc6\\xae \\xc6\\xc4\\xbf\\xee\\xb5\\xe5 EGP</option>\\n\\t\\t\\t\\t\\t\\t\\n\\t\\t\\t\\t\\t\\t\\t\\n\\t\\t\\t\\t\\t\\t\\t\\n\\t\\t\\t\\t\\t\\t\\t<option value=\"35.99\" label=\"1\"> \\xc5\\xc2\\xb1\\xb9 \\xb9\\xd9\\xc6\\xae THB</option>\\n\\t\\t\\t\\t\\t\\t\\n\\t\\t\\t\\t\\t\\t\\t\\n\\t\\t\\t\\t\\t\\t\\t\\n\\t\\t\\t\\t\\t\\t\\t<option value=\"874.53\" label=\"1\"> \\xbd\\xcc\\xb0\\xa1\\xc6\\xf7\\xb8\\xa3 \\xb4\\xde\\xb7\\xaf SGD</option>\\n\\t\\t\\t\\t\\t\\t\\n\\t\\t\\t\\t\\t\\t\\t\\n\\t\\t\\t\\t\\t\\t\\t\\n\\t\\t\\t\\t\\t\\t\\t<option value=\"283.86\" label=\"1\"> \\xb8\\xbb\\xb7\\xb9\\xc0\\xcc\\xbd\\xc3\\xbe\\xc6 \\xb8\\xb5\\xb1\\xea MYR</option>\\n\\t\\t\\t\\t\\t\\t\\n\\t\\t\\t\\t\\t\\t\\t\\n\\t\\t\\t\\t\\t\\t\\t\\n\\t\\t\\t\\t\\t\\t\\t<option value=\"0.08289999999999999\" label=\"100\"> \\xc0\\xce\\xb5\\xb5\\xb3\\xd7\\xbd\\xc3\\xbe\\xc6 \\xb7\\xe7\\xc7\\xc7\\xbe\\xc6 IDR</option>\\n\\t\\t\\t\\t\\t\\t\\n\\t\\t\\t\\t\\t\\t\\t\\n\\t\\t\\t\\t\\t\\t\\t\\n\\t\\t\\t\\t\\t\\t\\t<option value=\"323.81\" label=\"1\"> \\xc4\\xab\\xc5\\xb8\\xb8\\xa3 \\xb8\\xae\\xbe\\xe2 QAR</option>\\n\\t\\t\\t\\t\\t\\t\\n\\t\\t\\t\\t\\t\\t\\t\\n\\t\\t\\t\\t\\t\\t\\t\\n\\t\\t\\t\\t\\t\\t\\t<option value=\"2.75\" label=\"1\"> \\xc4\\xab\\xc0\\xda\\xc8\\xe5\\xbd\\xba\\xc5\\xba \\xc5\\xde\\xb0\\xd4 KZT</option>\\n\\t\\t\\t\\t\\t\\t\\n\\t\\t\\t\\t\\t\\t\\t\\n\\t\\t\\t\\t\\t\\t\\t\\n\\t\\t\\t\\t\\t\\t\\t<option value=\"874.53\" label=\"1\"> \\xba\\xea\\xb7\\xe7\\xb3\\xaa\\xc0\\xcc \\xb4\\xde\\xb7\\xaf BND</option>\\n\\t\\t\\t\\t\\t\\t\\n\\t\\t\\t\\t\\t\\t\\t\\n\\t\\t\\t\\t\\t\\t\\t\\n\\t\\t\\t\\t\\t\\t\\t<option value=\"15.85\" label=\"1\"> \\xc0\\xce\\xb5\\xb5 \\xb7\\xe7\\xc7\\xc7 INR</option>\\n\\t\\t\\t\\t\\t\\t\\n\\t\\t\\t\\t\\t\\t\\t\\n\\t\\t\\t\\t\\t\\t\\t\\n\\t\\t\\t\\t\\t\\t\\t<option value=\"6.82\" label=\"1\"> \\xc6\\xc4\\xc5\\xb0\\xbd\\xba\\xc5\\xba \\xb7\\xe7\\xc7\\xc7 PKR</option>\\n\\t\\t\\t\\t\\t\\t\\n\\t\\t\\t\\t\\t\\t\\t\\n\\t\\t\\t\\t\\t\\t\\t\\n\\t\\t\\t\\t\\t\\t\\t<option value=\"13.75\" label=\"1\"> \\xb9\\xe6\\xb1\\xdb\\xb6\\xf3\\xb5\\xa5\\xbd\\xc3 \\xc5\\xb8\\xc4\\xab BDT</option>\\n\\t\\t\\t\\t\\t\\t\\n\\t\\t\\t\\t\\t\\t\\t\\n\\t\\t\\t\\t\\t\\t\\t\\n\\t\\t\\t\\t\\t\\t\\t<option value=\"23.54\" label=\"1\"> \\xc7\\xca\\xb8\\xae\\xc7\\xc9 \\xc6\\xe4\\xbc\\xd2 PHP</option>\\n\\t\\t\\t\\t\\t\\t\\n\\t\\t\\t\\t\\t\\t\\t\\n\\t\\t\\t\\t\\t\\t\\t\\n\\t\\t\\t\\t\\t\\t\\t<option value=\"57.95\" label=\"1\"> \\xb8\\xdf\\xbd\\xc3\\xc4\\xda \\xc6\\xe4\\xbc\\xd2 MXN</option>\\n\\t\\t\\t\\t\\t\\t\\n\\t\\t\\t\\t\\t\\t\\t\\n\\t\\t\\t\\t\\t\\t\\t\\n\\t\\t\\t\\t\\t\\t\\t<option value=\"215.11\" label=\"1\"> \\xba\\xea\\xb6\\xf3\\xc1\\xfa \\xb7\\xb9\\xbe\\xcb BRL</option>\\n\\t\\t\\t\\t\\t\\t\\n\\t\\t\\t\\t\\t\\t\\t\\n\\t\\t\\t\\t\\t\\t\\t\\n\\t\\t\\t\\t\\t\\t\\t<option value=\"0.052000000000000005\" label=\"100\"> \\xba\\xa3\\xc6\\xae\\xb3\\xb2 \\xb5\\xbf VND</option>\\n\\t\\t\\t\\t\\t\\t\\n\\t\\t\\t\\t\\t\\t\\t\\n\\t\\t\\t\\t\\t\\t\\t\\n\\t\\t\\t\\t\\t\\t\\t<option value=\"78.08\" label=\"1\"> \\xb3\\xb2\\xbe\\xc6\\xc7\\xc1\\xb8\\xae\\xc4\\xab \\xb0\\xf8\\xc8\\xad\\xb1\\xb9 \\xb7\\xa3\\xb5\\xe5 ZAR</option>\\n\\t\\t\\t\\t\\t\\t\\n\\t\\t\\t\\t\\t\\t\\t\\n\\t\\t\\t\\t\\t\\t\\t\\n\\t\\t\\t\\t\\t\\t\\t<option value=\"16.66\" label=\"1\"> \\xb7\\xaf\\xbd\\xc3\\xbe\\xc6 \\xb7\\xe7\\xba\\xed RUB</option>\\n\\t\\t\\t\\t\\t\\t\\n\\t\\t\\t\\t\\t\\t\\t\\n\\t\\t\\t\\t\\t\\t\\t\\n\\t\\t\\t\\t\\t\\t\\t<option value=\"3.77\" label=\"1\"> \\xc7\\xeb\\xb0\\xa1\\xb8\\xae \\xc6\\xf7\\xb8\\xb0\\xc6\\xae HUF</option>\\n\\t\\t\\t\\t\\t\\t\\n\\t\\t\\t\\t\\t\\t\\t\\n\\t\\t\\t\\t\\t\\t\\t\\n\\t\\t\\t\\t\\t\\t\\t<option value=\"296.39\" label=\"1\"> \\xc6\\xfa\\xb6\\xf5\\xb5\\xe5 \\xc1\\xee\\xbf\\xf6\\xc6\\xbc PLN</option>\\n\\t\\t\\t\\t\\t\\t\\n\\t\\t\\t\\t\\t</select>\\n\\t\\t\\t\\t\\t<div class=\"selectbox-box\" onclick=\"clickcr(this, \\'exl*c.clist1\\', \\'\\', \\'\\', event);\">\\n\\t\\t\\t\\t\\t\\t<div class=\"selectbox-label\"></div>\\n\\t\\t\\t\\t\\t</div>\\n\\t\\t\\t\\t\\t<div class=\"selectbox-layer ly_calculator\">\\n\\t\\t\\t\\t\\t\\t<div class=\"selectbox-list\"></div>\\n\\t\\t\\t\\t\\t</div>\\n\\t\\t\\t\\t</div>\\n\\t\\t\\t\\t<div id=\"input_from\" class=\"input_area\">\\n\\t\\t\\t\\t\\t<input id=\"input_from_money\" value=\"1\" maxlength=\"10\" type=\"text\" onfocus=\"changeActiveInput(\\'from\\', \\'to\\'); return false;\" onkeyup=\"calcExchange(\\'from\\', \\'to\\', \\'on\\', event);\" onclick=\"clickcr(this, \\'exl*c.unit1\\', \\'\\', \\'\\', event);\">\\n\\t\\t\\t\\t\\t<img id=\"img_from_monetary\" src=\"https://ssl.pstatic.net/static/nfinance/img_money_USD.gif\" width=\"26\" height=\"13\" alt=\"\">\\n\\t\\t\\t\\t</div>\\n\\t\\t\\t</div>\\n\\t\\t\\t<div class=\"same\"><img src=\"https://ssl.pstatic.net/static/nfinance/ico_same.gif\" width=\"28\" height=\"15\" alt=\"\"></div>\\n\\t\\t\\t<div class=\"view\">\\n\\t\\t\\t\\t<div id=\"sView\" class=\"selectbox-noscript\">\\n\\t\\t\\t\\t\\t<select id=\"select_to\" class=\"selectbox-source\">\\n\\t\\t\\t\\t\\t\\t<option value=\"1\" class=\"selectbox-default\" label=\"1\">\\xb4\\xeb\\xc7\\xd1\\xb9\\xce\\xb1\\xb9 \\xbf\\xf8 KRW</option>\\n\\t\\t\\t\\t\\t\\t<option value=\"1\" label=\"1\">\\xb4\\xeb\\xc7\\xd1\\xb9\\xce\\xb1\\xb9 \\xbf\\xf8 KRW</option>\\n\\t\\t\\t\\t\\t\\t\\n\\t\\t\\t\\t\\t\\t\\t\\n\\t\\t\\t\\t\\t\\t\\t<option value=\"1179.0\" label=\"1\">\\xb9\\xcc\\xb1\\xb9 \\xb4\\xde\\xb7\\xaf USD</option>\\n\\t\\t\\t\\t\\t\\t\\n\\t\\t\\t\\t\\t\\t\\t\\n\\t\\t\\t\\t\\t\\t\\t<option value=\"1363.93\" label=\"1\">\\xc0\\xaf\\xb7\\xb4\\xbf\\xac\\xc7\\xd5 \\xc0\\xaf\\xb7\\xce EUR</option>\\n\\t\\t\\t\\t\\t\\t\\n\\t\\t\\t\\t\\t\\t\\t\\n\\t\\t\\t\\t\\t\\t\\t<option value=\"10.4157\" label=\"100\">\\xc0\\xcf\\xba\\xbb \\xbf\\xa3 JPY</option>\\n\\t\\t\\t\\t\\t\\t\\n\\t\\t\\t\\t\\t\\t\\t\\n\\t\\t\\t\\t\\t\\t\\t<option value=\"184.52\" label=\"1\">\\xc1\\xdf\\xb1\\xb9 \\xc0\\xa7\\xbe\\xc8 CNY</option>\\n\\t\\t\\t\\t\\t\\t\\n\\t\\t\\t\\t\\t\\t\\t\\n\\t\\t\\t\\t\\t\\t\\t<option value=\"151.35\" label=\"1\">\\xc8\\xab\\xc4\\xe1 \\xb4\\xde\\xb7\\xaf HKD</option>\\n\\t\\t\\t\\t\\t\\t\\n\\t\\t\\t\\t\\t\\t\\t\\n\\t\\t\\t\\t\\t\\t\\t<option value=\"42.51\" label=\"1\">\\xb4\\xeb\\xb8\\xb8 \\xb4\\xde\\xb7\\xaf TWD</option>\\n\\t\\t\\t\\t\\t\\t\\n\\t\\t\\t\\t\\t\\t\\t\\n\\t\\t\\t\\t\\t\\t\\t<option value=\"1595.13\" label=\"1\">\\xbf\\xb5\\xb1\\xb9 \\xc6\\xc4\\xbf\\xee\\xb5\\xe5 GBP</option>\\n\\t\\t\\t\\t\\t\\t\\n\\t\\t\\t\\t\\t\\t\\t\\n\\t\\t\\t\\t\\t\\t\\t<option value=\"3062.42\" label=\"1\">\\xbf\\xc0\\xb8\\xb8 \\xb8\\xae\\xbe\\xcb OMR</option>\\n\\t\\t\\t\\t\\t\\t\\n\\t\\t\\t\\t\\t\\t\\t\\n\\t\\t\\t\\t\\t\\t\\t<option value=\"949.05\" label=\"1\">\\xc4\\xb3\\xb3\\xaa\\xb4\\xd9 \\xb4\\xde\\xb7\\xaf CAD</option>\\n\\t\\t\\t\\t\\t\\t\\n\\t\\t\\t\\t\\t\\t\\t\\n\\t\\t\\t\\t\\t\\t\\t<option value=\"1291.49\" label=\"1\">\\xbd\\xba\\xc0\\xa7\\xbd\\xba \\xc7\\xc1\\xb6\\xfb CHF</option>\\n\\t\\t\\t\\t\\t\\t\\n\\t\\t\\t\\t\\t\\t\\t\\n\\t\\t\\t\\t\\t\\t\\t<option value=\"137.02\" label=\"1\">\\xbd\\xba\\xbf\\xfe\\xb5\\xa7 \\xc5\\xa9\\xb7\\xce\\xb3\\xaa SEK</option>\\n\\t\\t\\t\\t\\t\\t\\n\\t\\t\\t\\t\\t\\t\\t\\n\\t\\t\\t\\t\\t\\t\\t<option value=\"868.22\" label=\"1\">\\xc8\\xa3\\xc1\\xd6 \\xb4\\xde\\xb7\\xaf AUD</option>\\n\\t\\t\\t\\t\\t\\t\\n\\t\\t\\t\\t\\t\\t\\t\\n\\t\\t\\t\\t\\t\\t\\t<option value=\"836.74\" label=\"1\">\\xb4\\xba\\xc1\\xfa\\xb7\\xa3\\xb5\\xe5 \\xb4\\xde\\xb7\\xaf NZD</option>\\n\\t\\t\\t\\t\\t\\t\\n\\t\\t\\t\\t\\t\\t\\t\\n\\t\\t\\t\\t\\t\\t\\t<option value=\"54.12\" label=\"1\">\\xc3\\xbc\\xc4\\xda \\xc4\\xda\\xb7\\xe7\\xb3\\xaa CZK</option>\\n\\t\\t\\t\\t\\t\\t\\n\\t\\t\\t\\t\\t\\t\\t\\n\\t\\t\\t\\t\\t\\t\\t<option value=\"1.49\" label=\"1\">\\xc4\\xa5\\xb7\\xb9 \\xc6\\xe4\\xbc\\xd2 CLP</option>\\n\\t\\t\\t\\t\\t\\t\\n\\t\\t\\t\\t\\t\\t\\t\\n\\t\\t\\t\\t\\t\\t\\t<option value=\"120.19\" label=\"1\">\\xc5\\xcd\\xc5\\xb0 \\xb8\\xae\\xb6\\xf3 TRY</option>\\n\\t\\t\\t\\t\\t\\t\\n\\t\\t\\t\\t\\t\\t\\t\\n\\t\\t\\t\\t\\t\\t\\t<option value=\"0.41\" label=\"1\">\\xb8\\xf9\\xb0\\xf1 \\xc5\\xf5\\xb1\\xd7\\xb8\\xaf MNT</option>\\n\\t\\t\\t\\t\\t\\t\\n\\t\\t\\t\\t\\t\\t\\t\\n\\t\\t\\t\\t\\t\\t\\t<option value=\"379.56\" label=\"1\">\\xc0\\xcc\\xbd\\xba\\xb6\\xf3\\xbf\\xa4 \\xbc\\xbc\\xc4\\xcc ILS</option>\\n\\t\\t\\t\\t\\t\\t\\n\\t\\t\\t\\t\\t\\t\\t\\n\\t\\t\\t\\t\\t\\t\\t<option value=\"183.38\" label=\"1\">\\xb5\\xa7\\xb8\\xb6\\xc5\\xa9 \\xc5\\xa9\\xb7\\xce\\xb3\\xd7 DKK</option>\\n\\t\\t\\t\\t\\t\\t\\n\\t\\t\\t\\t\\t\\t\\t\\n\\t\\t\\t\\t\\t\\t\\t<option value=\"138.15\" label=\"1\">\\xb3\\xeb\\xb8\\xa3\\xbf\\xfe\\xc0\\xcc \\xc5\\xa9\\xb7\\xce\\xb3\\xd7 NOK</option>\\n\\t\\t\\t\\t\\t\\t\\n\\t\\t\\t\\t\\t\\t\\t\\n\\t\\t\\t\\t\\t\\t\\t<option value=\"314.35\" label=\"1\">\\xbb\\xe7\\xbf\\xec\\xb5\\xf0\\xbe\\xc6\\xb6\\xf3\\xba\\xf1\\xbe\\xc6 \\xb8\\xae\\xbe\\xe2 SAR</option>\\n\\t\\t\\t\\t\\t\\t\\n\\t\\t\\t\\t\\t\\t\\t\\n\\t\\t\\t\\t\\t\\t\\t<option value=\"3907.86\" label=\"1\">\\xc4\\xed\\xbf\\xfe\\xc0\\xcc\\xc6\\xae \\xb5\\xf0\\xb3\\xaa\\xb8\\xa3 KWD</option>\\n\\t\\t\\t\\t\\t\\t\\n\\t\\t\\t\\t\\t\\t\\t\\n\\t\\t\\t\\t\\t\\t\\t<option value=\"3127.07\" label=\"1\">\\xb9\\xd9\\xb7\\xb9\\xc0\\xce \\xb5\\xf0\\xb3\\xaa\\xb8\\xa3 BHD</option>\\n\\t\\t\\t\\t\\t\\t\\n\\t\\t\\t\\t\\t\\t\\t\\n\\t\\t\\t\\t\\t\\t\\t<option value=\"320.98\" label=\"1\">\\xbe\\xc6\\xb6\\xf8\\xbf\\xa1\\xb9\\xcc\\xb8\\xae\\xc6\\xae \\xb5\\xf0\\xb8\\xa3\\xc7\\xd4 AED</option>\\n\\t\\t\\t\\t\\t\\t\\n\\t\\t\\t\\t\\t\\t\\t\\n\\t\\t\\t\\t\\t\\t\\t<option value=\"1662.91\" label=\"1\">\\xbf\\xe4\\xb8\\xa3\\xb4\\xdc \\xb5\\xf0\\xb3\\xaa\\xb8\\xa3 JOD</option>\\n\\t\\t\\t\\t\\t\\t\\n\\t\\t\\t\\t\\t\\t\\t\\n\\t\\t\\t\\t\\t\\t\\t<option value=\"75.05\" label=\"1\">\\xc0\\xcc\\xc1\\xfd\\xc6\\xae \\xc6\\xc4\\xbf\\xee\\xb5\\xe5 EGP</option>\\n\\t\\t\\t\\t\\t\\t\\n\\t\\t\\t\\t\\t\\t\\t\\n\\t\\t\\t\\t\\t\\t\\t<option value=\"35.99\" label=\"1\">\\xc5\\xc2\\xb1\\xb9 \\xb9\\xd9\\xc6\\xae THB</option>\\n\\t\\t\\t\\t\\t\\t\\n\\t\\t\\t\\t\\t\\t\\t\\n\\t\\t\\t\\t\\t\\t\\t<option value=\"874.53\" label=\"1\">\\xbd\\xcc\\xb0\\xa1\\xc6\\xf7\\xb8\\xa3 \\xb4\\xde\\xb7\\xaf SGD</option>\\n\\t\\t\\t\\t\\t\\t\\n\\t\\t\\t\\t\\t\\t\\t\\n\\t\\t\\t\\t\\t\\t\\t<option value=\"283.86\" label=\"1\">\\xb8\\xbb\\xb7\\xb9\\xc0\\xcc\\xbd\\xc3\\xbe\\xc6 \\xb8\\xb5\\xb1\\xea MYR</option>\\n\\t\\t\\t\\t\\t\\t\\n\\t\\t\\t\\t\\t\\t\\t\\n\\t\\t\\t\\t\\t\\t\\t<option value=\"0.08289999999999999\" label=\"100\">\\xc0\\xce\\xb5\\xb5\\xb3\\xd7\\xbd\\xc3\\xbe\\xc6 \\xb7\\xe7\\xc7\\xc7\\xbe\\xc6 IDR</option>\\n\\t\\t\\t\\t\\t\\t\\n\\t\\t\\t\\t\\t\\t\\t\\n\\t\\t\\t\\t\\t\\t\\t<option value=\"323.81\" label=\"1\">\\xc4\\xab\\xc5\\xb8\\xb8\\xa3 \\xb8\\xae\\xbe\\xe2 QAR</option>\\n\\t\\t\\t\\t\\t\\t\\n\\t\\t\\t\\t\\t\\t\\t\\n\\t\\t\\t\\t\\t\\t\\t<option value=\"2.75\" label=\"1\">\\xc4\\xab\\xc0\\xda\\xc8\\xe5\\xbd\\xba\\xc5\\xba \\xc5\\xde\\xb0\\xd4 KZT</option>\\n\\t\\t\\t\\t\\t\\t\\n\\t\\t\\t\\t\\t\\t\\t\\n\\t\\t\\t\\t\\t\\t\\t<option value=\"874.53\" label=\"1\">\\xba\\xea\\xb7\\xe7\\xb3\\xaa\\xc0\\xcc \\xb4\\xde\\xb7\\xaf BND</option>\\n\\t\\t\\t\\t\\t\\t\\n\\t\\t\\t\\t\\t\\t\\t\\n\\t\\t\\t\\t\\t\\t\\t<option value=\"15.85\" label=\"1\">\\xc0\\xce\\xb5\\xb5 \\xb7\\xe7\\xc7\\xc7 INR</option>\\n\\t\\t\\t\\t\\t\\t\\n\\t\\t\\t\\t\\t\\t\\t\\n\\t\\t\\t\\t\\t\\t\\t<option value=\"6.82\" label=\"1\">\\xc6\\xc4\\xc5\\xb0\\xbd\\xba\\xc5\\xba \\xb7\\xe7\\xc7\\xc7 PKR</option>\\n\\t\\t\\t\\t\\t\\t\\n\\t\\t\\t\\t\\t\\t\\t\\n\\t\\t\\t\\t\\t\\t\\t<option value=\"13.75\" label=\"1\">\\xb9\\xe6\\xb1\\xdb\\xb6\\xf3\\xb5\\xa5\\xbd\\xc3 \\xc5\\xb8\\xc4\\xab BDT</option>\\n\\t\\t\\t\\t\\t\\t\\n\\t\\t\\t\\t\\t\\t\\t\\n\\t\\t\\t\\t\\t\\t\\t<option value=\"23.54\" label=\"1\">\\xc7\\xca\\xb8\\xae\\xc7\\xc9 \\xc6\\xe4\\xbc\\xd2 PHP</option>\\n\\t\\t\\t\\t\\t\\t\\n\\t\\t\\t\\t\\t\\t\\t\\n\\t\\t\\t\\t\\t\\t\\t<option value=\"57.95\" label=\"1\">\\xb8\\xdf\\xbd\\xc3\\xc4\\xda \\xc6\\xe4\\xbc\\xd2 MXN</option>\\n\\t\\t\\t\\t\\t\\t\\n\\t\\t\\t\\t\\t\\t\\t\\n\\t\\t\\t\\t\\t\\t\\t<option value=\"215.11\" label=\"1\">\\xba\\xea\\xb6\\xf3\\xc1\\xfa \\xb7\\xb9\\xbe\\xcb BRL</option>\\n\\t\\t\\t\\t\\t\\t\\n\\t\\t\\t\\t\\t\\t\\t\\n\\t\\t\\t\\t\\t\\t\\t<option value=\"0.052000000000000005\" label=\"100\">\\xba\\xa3\\xc6\\xae\\xb3\\xb2 \\xb5\\xbf VND</option>\\n\\t\\t\\t\\t\\t\\t\\n\\t\\t\\t\\t\\t\\t\\t\\n\\t\\t\\t\\t\\t\\t\\t<option value=\"78.08\" label=\"1\">\\xb3\\xb2\\xbe\\xc6\\xc7\\xc1\\xb8\\xae\\xc4\\xab \\xb0\\xf8\\xc8\\xad\\xb1\\xb9 \\xb7\\xa3\\xb5\\xe5 ZAR</option>\\n\\t\\t\\t\\t\\t\\t\\n\\t\\t\\t\\t\\t\\t\\t\\n\\t\\t\\t\\t\\t\\t\\t<option value=\"16.66\" label=\"1\">\\xb7\\xaf\\xbd\\xc3\\xbe\\xc6 \\xb7\\xe7\\xba\\xed RUB</option>\\n\\t\\t\\t\\t\\t\\t\\n\\t\\t\\t\\t\\t\\t\\t\\n\\t\\t\\t\\t\\t\\t\\t<option value=\"3.77\" label=\"1\">\\xc7\\xeb\\xb0\\xa1\\xb8\\xae \\xc6\\xf7\\xb8\\xb0\\xc6\\xae HUF</option>\\n\\t\\t\\t\\t\\t\\t\\n\\t\\t\\t\\t\\t\\t\\t\\n\\t\\t\\t\\t\\t\\t\\t<option value=\"296.39\" label=\"1\">\\xc6\\xfa\\xb6\\xf5\\xb5\\xe5 \\xc1\\xee\\xbf\\xf6\\xc6\\xbc PLN</option>\\n\\t\\t\\t\\t\\t\\t\\n\\t\\t\\t\\t\\t</select>\\n\\t\\t\\t\\t\\t<div class=\"selectbox-box\"  onclick=\"clickcr(this, \\'exl*c.clist2\\', \\'\\', \\'\\', event);\">\\n\\t\\t\\t\\t\\t\\t<div class=\"selectbox-label\"></div>\\n\\t\\t\\t\\t\\t</div>\\n\\t\\t\\t\\t\\t<div class=\"selectbox-layer ly_calculator\">\\n\\t\\t\\t\\t\\t\\t<div class=\"selectbox-list\"></div>\\n\\t\\t\\t\\t\\t</div>\\n\\t\\t\\t\\t</div>\\n\\t\\t\\t\\t<div id =\"input_to\" class=\"input_area\">\\n\\t\\t\\t\\t\\t<input id=\"input_to_money\" maxlength=\"10\" type=\"text\" onfocus=\"changeActiveInput(\\'to\\', \\'from\\'); return false;\" onkeyup=\"calcExchange(\\'to\\', \\'from\\', \\'on\\', event);\" onclick=\"clickcr(this, \\'exl*c.unit2\\', \\'\\', \\'\\', event);\">\\n\\t\\t\\t\\t\\t<img id=\"img_to_monetary\" src=\"https://ssl.pstatic.net/static/nfinance/img_money_KRW.gif\" width=\"26\" height=\"13\" alt=\"\">\\n\\t\\t\\t\\t</div>\\n\\t\\t\\t</div>\\n\\t\\t</div>\\n\\t</div>\\n</div>\\t\\t\\t\\t\\n\\t\\n<div class=\"section_exchange\">\\n\\t<div id=\"section_ex1\">\\n\\t\\t<h3 id=\"exchange1\" class=\"blind\">\\xc8\\xaf\\xc0\\xfc \\xb0\\xed\\xbd\\xc3 \\xc8\\xaf\\xc0\\xb2</h3>\\n\\t\\t<div class=\"exchange_info\">\\n\\n\\t\\t\\t<span class=\"date\">2021.11.10 20:04</span>\\n\\t\\t\\t<span class=\"standard\">\\xc7\\xcf\\xb3\\xaa\\xc0\\xba\\xc7\\xe0 \\xb1\\xe2\\xc1\\xd8</span>\\n\\t\\t\\t<span class=\"round\">\\xb0\\xed\\xbd\\xc3\\xc8\\xb8\\xc2\\xf7 <em>252</em>\\xc8\\xb8</span>\\n\\n\\t\\t</div>\\n\\t\\t<iframe id=\"frame_ex1\" title=\"\\xc8\\xaf\\xc0\\xfc \\xb0\\xed\\xbd\\xc3 \\xc8\\xaf\\xc0\\xb2\" src=\"/marketindex/exchangeList.naver\" width=\"100%\" height=\"1378px\" frameborder=\"0\" scrolling=\"no\" marginheight=\"0\" marginwidth=\"0\"></iframe>\\n\\t</div>\\n\\t<ul class=\"tbl_info\">\\n\\t<li>\\xc5\\xeb\\xc8\\xad\\xb8\\xed\\xb0\\xfa \\xbd\\xc9\\xba\\xbc\\xc0\\xba \\xbe\\xd5\\xbf\\xa1 \\xc0\\xa7\\xc4\\xa1\\xc7\\xd1 \\xc5\\xeb\\xc8\\xad\\xbf\\xa1 1\\xc0\\xcc \\xbb\\xfd\\xb7\\xab\\xb5\\xc8 \\xc7\\xfc\\xc5\\xc2\\xb7\\xce, \\xb4\\xde\\xb7\\xaf/\\xc0\\xcf\\xba\\xbb \\xbf\\xa3(\\xbd\\xc9\\xba\\xbc: USDJPY)\\xc0\\xce \\xb0\\xe6\\xbf\\xec 1 USD(\\xb4\\xde\\xb7\\xaf)\\xb0\\xa1 JPY(\\xc0\\xcf\\xba\\xbb \\xbf\\xa3)\\xc0\\xb8\\xb7\\xce \\xbe\\xf3\\xb8\\xb6\\xc0\\xce\\xb0\\xa1\\xb8\\xa6 \\xc0\\xc7\\xb9\\xcc\\xc7\\xd5\\xb4\\xcf\\xb4\\xd9.</li>\\n\\t</ul>\\n</div>\\n\\n<script type=\"text/javascript\" language=\"javascript\" src=\"https://ssl.pstatic.net/imgstock/static.pc/20211029233853/js/jindoComponent/jindo.Component.1.0.3.js\"></script>\\n<script type=\"text/javascript\" language=\"javascript\" src=\"https://ssl.pstatic.net/imgstock/static.pc/20211029233853/js/jindoComponent/jindo.UIComponent.1.0.1.js\"></script>\\n<script type=\"text/javascript\" language=\"javascript\" src=\"https://ssl.pstatic.net/imgstock/static.pc/20211029233853/js/jindoComponent/jindo.HTMLComponent.1.0.1.js\"></script>\\n<script type=\"text/javascript\" language=\"javascript\" src=\"https://ssl.pstatic.net/imgstock/static.pc/20211029233853/js/jindoComponent/jindo.Timer.1.0.3.js\"></script>\\n<script type=\"text/javascript\" language=\"javascript\" src=\"https://ssl.pstatic.net/imgstock/static.pc/20211029233853/js/jindoComponent/jindo.LayerManager.1.0.1.js\"></script>\\n<script type=\"text/javascript\" language=\"javascript\" src=\"https://ssl.pstatic.net/imgstock/static.pc/20211029233853/js/jindoComponent/jindo.LayerPosition.1.0.1.js\"></script>\\n<script type=\"text/javascript\" language=\"javascript\" src=\"https://ssl.pstatic.net/imgstock/static.pc/20211029233853/js/jindoComponent/jindo.RolloverArea.1.0.1.js\"></script>\\n<script type=\"text/javascript\" language=\"javascript\" src=\"https://ssl.pstatic.net/imgstock/static.pc/20211029233853/js/jindoComponent/jindo.RolloverClick.1.0.1.js\"></script>\\n<script type=\"text/javascript\" language=\"javascript\" src=\"https://ssl.pstatic.net/imgstock/static.pc/20211029233853/js/jindoComponent/jindo.SelectBox.1.0.1.js\"></script>\\n<script type=\"text/javascript\" language=\"javascript\" charset=\"euckr\" src=\"https://ssl.pstatic.net/imgstock/static.pc/20211029233853/js/jindoComponent/jindo.TextRange.1.0.1.js\"></script>\\n<script type=\"text/javascript\" language=\"javascript\" charset=\"euckr\" src=\"https://ssl.pstatic.net/imgstock/static.pc/20211029233853/js/jindoComponent/jindo.WatchInput.1.0.1.js\"></script>\\n<script type=\"text/javascript\" language=\"javascript\" charset=\"euckr\" src=\"https://ssl.pstatic.net/imgstock/static.pc/20211029233853/js/jindoComponent/jindo.Formatter.1.1.0.js\"></script>\\n<script type=\"text/javascript\" language=\"javascript\" charset=\"euckr\" src=\"https://ssl.pstatic.net/imgstock/static.pc/20211029233853/js/jindoComponent/jindo.NumberFormatter.1.0.1.js\"></script>\\n<script type=\"text/javascript\" language=\"javascript\" src=\"https://ssl.pstatic.net/imgstock/static.pc/20211029233853/js/exchange.js\"></script>\\n<script type=\"text/javascript\">\\n// exchangeDetail.jsp\\xbf\\xa1\\xb5\\xb5 \\xb5\\xbf\\xc0\\xcf \\xbd\\xba\\xc5\\xa9\\xb8\\xb3\\xc6\\xae \\xc0\\xd6\\xc0\\xbd - \\xb7\\xce\\xb5\\xf9\\xbd\\xc3 \\xb5\\xf0\\xc0\\xda\\xc0\\xce\\xc0\\xcc 0.5\\xc3\\xca\\xb0\\xa3 \\xb5\\xf0\\xc0\\xda\\xc0\\xce\\xc0\\xcc \\xbe\\xc8\\xb6\\xe1\\xb4\\xd9\\xb4\\xc2 \\xc0\\xcc\\xbd\\xb4\\xb7\\xce include\\xc7\\xcf\\xc1\\xf6 \\xbe\\xca\\xb0\\xed \\xb0\\xb0\\xc0\\xba \\xbd\\xba\\xc5\\xa9\\xb8\\xb3\\xc6\\xae\\xb8\\xa6 \\xb5\\xce\\xb9\\xfa\\xb7\\xce \\xb0\\xfc\\xb8\\xae\\xc7\\xd4\\n\\n//\\xc8\\xaf\\xc0\\xb2 \\xb0\\xe8\\xbb\\xea\\nfunction calcExchange(str1, str2, cssOn, event) {\\n\\tvar oEvent = event || window.event;\\n    var sKeyCode = (undefined === oEvent) ? undefined : jindo.$Event(oEvent).key().keyCode;\\n\\t\\n\\tif (sKeyCode != 13 && sKeyCode != 27 && sKeyCode != 37 && sKeyCode != 38 && sKeyCode != 110 && sKeyCode != 229) {\\n\\t\\tif (str1 == \\'\\' && str2 == \\'\\') {\\n\\t\\t\\tif (jindo.$(\\'input_to\\').className == \\'input_area\\') {\\n\\t\\t\\t\\tstr1 = \\'from\\';\\n\\t\\t\\t\\tstr2 = \\'to\\';\\n\\t\\t\\t} else {\\n\\t\\t\\t\\tstr1 = \\'to\\';\\n\\t\\t\\t\\tstr2 = \\'from\\';\\n\\t\\t\\t}\\n\\t\\t}\\n\\t\\t\\n\\t\\tvar regExp = new RegExp(\"[^0-9\\\\.\\\\,]\");\\n\\t    var sInputValue = jindo.$(\\'input_\\' + str1 + \\'_money\\').value;\\n\\t\\t\\n\\t    if(regExp.test(sInputValue)){\\n\\t\\t\\talert(\\'\\xbc\\xfd\\xc0\\xda, \\xbc\\xd2\\xbc\\xf6\\xc1\\xa1(.)\\xb8\\xb8 \\xc0\\xd4\\xb7\\xc2\\xc7\\xcf\\xbd\\xc7 \\xbc\\xf6 \\xc0\\xd6\\xbd\\xc0\\xb4\\xcf\\xb4\\xd9.\\');\\n\\t\\t\\tjindo.$(\\'input_\\' + str1 + \\'_money\\').value = revertInputText(sInputValue);\\n\\t\\t\\treturn false;\\n\\t\\t}\\n\\t\\t\\n\\t\\t// \\xbb\\xe7\\xbf\\xeb\\xc0\\xda\\xb0\\xa1 \\xc0\\xd4\\xb7\\xc2\\xc7\\xd1 \\xc4\\xde\\xb8\\xb6(,) \\xc1\\xa6\\xb0\\xc5\\n\\t    if (sInputValue.substr(sInputValue.length - 1, 1) == \\',\\') {\\n\\t    \\tjindo.$(\\'input_\\' + str1 + \\'_money\\').value = revertInputText(sInputValue);\\n\\t    \\treturn false;\\n\\t    }\\n\\t\\t\\n\\t\\t// \\xb8\\xc7 \\xbe\\xd5\\xbf\\xa1 \\xc0\\xd6\\xb4\\xc2 \\xbc\\xfd\\xc0\\xda 0 \\xbe\\xf8\\xbe\\xd6\\xb1\\xe2\\n\\t\\tif (sInputValue == \\'0\\' || sInputValue == \\'.\\' || sInputValue == \\',\\') {\\n\\t\\t\\tjindo.$(\\'input_\\' + str1 + \\'_money\\').value = revertInputText(sInputValue);\\n\\t\\t\\treturn false;\\n\\t\\t}\\n\\t\\t\\n\\t\\t// \\xbc\\xd2\\xbc\\xf6\\xc1\\xa1 2\\xb0\\xb3\\xb0\\xa1 \\xbe\\xf8\\xb5\\xb5\\xb7\\xcf\\n\\t\\tvar match = sInputValue.match(/\\\\./g);\\n\\t\\tif (match != null && match.length >= 2) {\\n\\t\\t\\tjindo.$(\\'input_\\' + str1 + \\'_money\\').value = revertInputText(sInputValue);\\n\\t\\t\\treturn false;\\n\\t\\t}\\n\\t\\t\\n\\t\\t// \\xbc\\xd2\\xbc\\xf6\\xc1\\xa1\\xc0\\xbb \\xc0\\xd4\\xb7\\xc2\\xc7\\xd1 \\xb0\\xe6\\xbf\\xec, \\xc0\\xcf\\xb4\\xdc \\xb4\\xeb\\xb1\\xe2\\n\\t\\tvar pointPosIndex = sInputValue.indexOf(\\'.\\');\\n\\t\\tif (pointPosIndex != -1 && pointPosIndex == sInputValue.length - 1) {\\n\\t\\t\\treturn false;\\n\\t\\t}\\n\\t\\t\\n\\t\\t// \\xbc\\xd2\\xbc\\xf6\\xc1\\xa1 2\\xc0\\xda\\xb8\\xae \\xc0\\xaf\\xc1\\xf6\\n\\t\\tif (pointPosIndex != -1 && sInputValue.substring(pointPosIndex + 1, sInputValue.length).length > 2) {\\n\\t\\t\\tjindo.$(\\'input_\\' + str1 + \\'_money\\').value = revertInputText(sInputValue);\\n\\t\\t\\treturn false;\\n\\t\\t}\\n\\t\\t\\n\\t\\tvar e_select_from\\t= jindo.$(\\'select_\\'+str1);\\n\\t\\tvar e_select_to\\t= jindo.$(\\'select_\\'+str2);\\n\\t\\n\\t\\tvar input_from_money\\t= jindo.$(\\'input_\\'+str1+\\'_money\\').value ;\\n\\t\\tvar input_from\\t\\t= e_select_from.options[e_select_from.selectedIndex].value ;\\n\\t\\tvar input_to\\t\\t= e_select_to.options[e_select_to.selectedIndex].value ;\\n\\t\\tvar unit_from\\t= e_select_from.options[e_select_from.selectedIndex].text ;\\n\\t\\tvar unit_to\\t\\t= e_select_to.options[e_select_to.selectedIndex].text ;\\n\\t\\tinput_from_money = input_from_money.replace(/ |,|\\\\t/g, \"\") ;\\n\\t\\tinput_from\\t= input_from.replace(/ |,|\\\\t/g, \"\") ;\\n\\t\\tinput_to\\t= input_to.replace(/ |,|\\\\t/g, \"\") ;\\n\\t\\tunit_from = unit_from.substr(unit_from.length-3, 3);\\n\\t\\tunit_to = unit_to.substr(unit_to.length-3, 3);\\n\\t\\n\\t\\tvar str1_result = input_from_money * 1 ;\\n\\t\\tvar str1_str\\t= str1_result.toFixed(0) ;\\n\\t\\tvar str1_len = str1_str.length ;\\n\\t\\tvar str1_result_str = new String(\"\") ;\\n\\t\\n\\t\\tif(str1_str > str1_result)\\n\\t\\t\\tstr1_str = new String(str1_str-1) ;\\n\\t\\n\\t\\tif (str1_len >= 3) {\\n\\t\\t\\tfor (i = str1_len - 3; i > 0; i-=3)\\n\\t\\t\\t\\tstr1_result_str = \",\" + str1_str.substr(i, 3) + str1_result_str ;\\n\\t\\n\\t\\t\\tstr1_result_str = str1_str.substr(0, 3+i) + str1_result_str ;\\n\\t\\n\\t\\t\\tfor (var i=0; i<input_from_money.length; i++) {\\n\\t\\t\\t\\tif (input_from_money.substr(i,1) != \\'0\\') {\\n\\t\\t\\t\\t\\tinput_from_money = input_from_money.substring(i,input_from_money.length) ;\\n\\t\\t\\t\\t\\tbreak;\\n\\t\\t\\t\\t}\\n\\t\\t\\t}\\n\\t\\n\\t\\t\\tif (str1_str != input_from_money) {\\n\\t\\t\\t\\tstr1_result_str += str1_result.toFixed(input_from_money.split(\".\")[1].length).substr(str1_len, input_from_money.split(\".\")[1].length + 1) ;\\n\\t\\t\\t}\\n\\t\\t} else\\n\\t\\t\\tstr1_result_str = input_from_money ;\\n\\t\\n\\t\\tvar str2_result = input_from_money * input_from / input_to ;\\n\\t\\tvar str2_str\\t= str2_result.toFixed(0) ;\\n\\t\\tvar str2_len = str2_str.length ;\\n\\t\\tvar str2_result_str = new String(\"\") ;\\n\\t\\n\\t\\tif (str2_str > str2_result)\\n\\t\\t\\tstr2_str = new String(str2_str-1) ;\\n\\t\\n\\t\\tif (str2_len >= 3) {\\n\\t\\t\\tfor (i = str2_len - 3; i > 0; i-=3)\\n\\t\\t\\t\\tstr2_result_str = \",\" + str2_str.substr(i, 3) + str2_result_str ;\\n\\t\\n\\t\\t\\tstr2_result_str = str2_str.substr(0, 3+i) + str2_result_str ;\\n\\t\\t\\tstr2_result_str += str2_result.toFixed(2).substr(str2_len, 3) ;\\n\\t\\t} else\\n\\t\\t\\tstr2_result_str = str2_result.toFixed(2) ;\\n\\t\\n\\t\\tjindo.$(\\'input_\\'+str1+\\'_money\\').value = str1_result_str;\\n\\t\\tjindo.$(\\'input_\\'+str2+\\'_money\\').value = str2_result_str;\\n\\t\\tjindo.$(\\'img_\\'+str1+\\'_monetary\\').src = \"https://ssl.pstatic.net/static/nfinance/img_money_\"+unit_from+\".gif\";\\n\\t\\tjindo.$(\\'img_\\'+str2+\\'_monetary\\').src = \"https://ssl.pstatic.net/static/nfinance/img_money_\"+unit_to+\".gif\";\\n\\t\\tjindo.$Element(jindo.$(\\'input_\\'+str1)).addClass(\"on\");\\n\\t\\tjindo.$Element(jindo.$(\\'input_\\'+str2)).removeClass(\"on\");\\n\\t\\tif (cssOn == \"off\"){\\n\\t\\t\\tjindo.$Element(jindo.$(\\'input_\\'+str1)).removeClass(\"on\");\\n\\t\\t}\\n\\t}\\n}\\n\\nfunction revertInputText(sOrgText) {\\n\\tvar sResult = sOrgText;\\n\\t\\n\\tif (sOrgText != \\'\\') {\\n\\t\\tsResult = sOrgText.substr(0, sOrgText.length - 1);\\n\\t}\\n\\t\\n\\treturn sResult;\\n}\\n\\njindo.$Fn(function(){\\n\\tchartMouseOverEvent(\\'exchangeList\\');\\t\\t\\n   }).attach(document, \"domready\");\\n</script>\\n\\n\\t\\n\\t\\n\\t\\n</div>\\n<script language=\"javascript\" src=\"https://ssl.pstatic.net/imgstock/static.pc/20211029233853/js/jindo_ellipse.js\"></script>\\n<script language=\"javascript\" src=\"https://ssl.pstatic.net/imgstock/static.pc/20211029233853/js/util.js\"></script>\\n<script type=\"text/javascript\">\\n\\nfunction ellipseTopNewsTitle() {\\n\\tjindo.EllipseText.factory(jindo.$$(\".news_list ul li\"), {nAssistWidth: 10});\\n}\\n\\nvar basicDates;\\n\\nfunction initDate() {\\n\\tbasicDates = jindo.$H();\\n\\tbasicDates.add(\\'\\', \\'\\');\\n\\tbasicDates.add(\\'\\', \\'\\');\\n\\tbasicDates.add(\\'\\', \\'\\');\\n\\tbasicDates.add(\\'\\', \\'\\');\\n\\tbasicDates.add(\\'\\', \\'\\');\\n\\tbasicDates.add(\\'\\', \\'\\');\\n}\\n\\nvar basicDescriptions;\\n\\nfunction initDescription() {\\n\\tbasicDescriptions = jindo.$H();\\n\\tbasicDescriptions.add(\\'CMDT_CDY\\',\\'<em></em>  \\xb1\\xe2\\xc1\\xd8<span>\\xb4\\xdc\\xc0\\xa7:</span>\\');\\n\\tbasicDescriptions.add(\\'CMDT_PDY\\',\\'<em></em>  \\xb1\\xe2\\xc1\\xd8<span>\\xb4\\xdc\\xc0\\xa7:</span>\\');\\n\\tbasicDescriptions.add(\\'CMDT_NG\\',\\'<em></em>  \\xb1\\xe2\\xc1\\xd8<span>\\xb4\\xdc\\xc0\\xa7:</span>\\');\\n\\tbasicDescriptions.add(\\'CMDT_S\\',\\'<em></em>  \\xb1\\xe2\\xc1\\xd8<span>\\xb4\\xdc\\xc0\\xa7:</span>\\');\\n\\tbasicDescriptions.add(\\'CMDT_C\\',\\'<em></em>  \\xb1\\xe2\\xc1\\xd8<span>\\xb4\\xdc\\xc0\\xa7:</span>\\');\\n\\tbasicDescriptions.add(\\'CMDT_SB\\',\\'<em></em>  \\xb1\\xe2\\xc1\\xd8<span>\\xb4\\xdc\\xc0\\xa7:</span>\\');\\n}\\n\\nfunction setEvent(num, imgChartUrl){\\t\\n\\tvar parentElemnt = jindo.$$(\\'.tbl_market\\')[num];\\n\\tvar elementList = jindo.$$(\\'tr\\',parentElemnt);\\n\\t\\n\\tjindo.$Fn(function(e){\\t\\n\\t\\tvar elementListSize = elementList.length;\\n\\t\\t\\n\\t\\tfor(var i = 0 ; i < elementListSize ; i ++)\\n\\t\\t{\\n\\t\\t\\tvar selectedElement = jindo.$Element(elementList[i]);\\n\\t\\t\\tvar selectedClassName = selectedElement.className();\\n\\t\\t\\tif (selectedClassName != \"\") {\\n\\t\\t\\t\\tselectedElement.removeClass(selectedClassName);\\n\\t\\t\\t\\tselectedElement.addClass(selectedClassName.replace(\"on\",\"\"));\\n\\t\\t\\t}\\n\\t\\t} \\n\\t\\t\\n\\t\\tvar ele = jindo.$Element(jindo.$Event(e).currentElement);\\n\\t\\tvar linkUrl = jindo.$$.getSingle(\\'a\\' , ele.$value()).href;\\n\\t\\tvar marketindexCd = linkUrl.split(\\'=\\')[1];\\n\\t\\tvar className = ele.className();\\n\\t\\tele.removeClass(className);\\n\\t\\tele.addClass(className+\" on\");\\n\\t\\tvar graphElement = jindo.$Element(jindo.$$(\\'.thum\\')[num]);\\n\\t\\tgraphElement.html(\\'<a href=\\\\\"\\'+linkUrl+\\'\\\\\"><img src=\\\\\"https://ssl.pstatic.net/imgfinance/chart/marketindex/\\' + marketindexCd + \\'.png\\\\\" width=\\\\\"295\\\\\" height=\\\\\"153\\\\\" alt=\"\"></a>\\');\\n\\t\\t\\n\\t\\tif (basicDates.hasKey(marketindexCd)) {\\n\\t\\t\\tjindo.$Element(\"basicDate\").text(basicDates.$(marketindexCd));\\n\\t\\t}\\n\\t\\tif (basicDescriptions.hasKey(marketindexCd)) {\\n\\t\\t\\tjindo.$Element(\"basicDescription\").html(basicDescriptions.$(marketindexCd));\\n\\t\\t}\\n\\t\\n\\t}).attach(elementList, \"mouseover\");\\t\\n}\\n\\njindo.$Fn(function(){\\n\\t\\tinitDate();\\n\\t\\tinitDescription();\\n\\t\\tchartMouseOverEvent(\\'exchangeList\\');\\n\\t\\tchartMouseOverEvent(\\'worldExchangeList\\');\\n\\t\\tchartMouseOverEvent(\\'oilGoldList\\');\\n\\t\\tjindo.$$(\\'title\\')[0].innerHTML = \"\\xbd\\xc3\\xc0\\xe5\\xc1\\xf6\\xc7\\xa5 : \\xb3\\xd7\\xc0\\xcc\\xb9\\xf6 \\xb1\\xdd\\xc0\\xb6\";\\n}).attach(document, \"domready\");\\n\\n</script>\\n\\t\\t\\n<div class=\"aside\" id=\"marketindex_aside\">\\n\\t\\t<div class=\"section_aside\" >\\n\\t\\t\\t\\n\\t\\t\\t\\n\\t\\t\\t\\t\\n\\t\\t\\t\\t\\t\\n\\t\\t\\t\\t\\t\\t\\n\\t\\t\\t\\t\\t\\n\\t\\t\\t\\t\\t\\n\\t\\t\\t\\t\\t\\n\\t\\t\\t\\t\\t\\n\\t\\t\\t\\t\\t\\n\\t\\t\\t\\t\\t\\n\\t\\t\\t\\t\\n\\t\\t\\t\\t\\t\\n\\t\\t\\t\\t\\t\\n\\t\\t\\t\\t\\t\\n\\t\\t\\t\\t\\t\\t\\n\\t\\t\\t\\t\\t\\n\\t\\t\\t\\t\\t\\n\\t\\t\\t\\t\\t\\n\\t\\t\\t\\t\\t\\n\\t\\t\\t\\t\\n\\t\\t\\t\\t\\t\\n\\t\\t\\t\\t\\t\\n\\t\\t\\t\\t\\t\\t\\n\\t\\t\\t\\t\\t\\n\\t\\t\\t\\t\\t\\n\\t\\t\\t\\t\\t\\n\\t\\t\\t\\t\\t\\n\\t\\t\\t\\t\\t\\n\\t\\t\\t\\t\\n\\t\\t\\t\\t\\t\\n\\t\\t\\t\\t\\t\\n\\t\\t\\t\\t\\t\\n\\t\\t\\t\\t\\t\\n\\t\\t\\t\\t\\t\\t\\n\\t\\t\\t\\t\\t\\n\\t\\t\\t\\t\\t\\n\\t\\t\\t\\t\\t\\n\\t\\t\\t\\t\\n\\t\\t\\t\\t\\t\\n\\t\\t\\t\\t\\t\\n\\t\\t\\t\\t\\t\\n\\t\\t\\t\\t\\t\\n\\t\\t\\t\\t\\t\\n\\t\\t\\t\\t\\t\\n\\t\\t\\t\\t\\t\\t\\n\\t\\t\\t\\t\\t\\n\\t\\t\\t\\t\\n\\t\\t\\t\\t\\t\\n\\t\\t\\t\\t\\t\\n\\t\\t\\t\\t\\t\\n\\t\\t\\t\\t\\t\\n\\t\\t\\t\\t\\t\\n\\t\\t\\t\\t\\t\\t\\n\\t\\t\\t\\t\\t\\n\\t\\t\\t\\t\\t\\n\\t\\t\\t\\t\\n\\t\\t\\t\\t<h3 class=\"h_interest\"><span>\\xb1\\xb9\\xb3\\xbb\\xbd\\xc3\\xc0\\xe5\\xb1\\xdd\\xb8\\xae</span></h3>\\n\\t\\t\\t\\t<table class=\"tbl_exchange market\" summary=\"\\xb1\\xb9\\xc1\\xa6\\xbd\\xc3\\xc0\\xe5 \\xc8\\xaf\\xc0\\xb2 \\xb8\\xae\\xbd\\xba\\xc6\\xae\">\\n\\t\\t\\t\\t<caption>\\xb1\\xb9\\xb3\\xbb\\xbd\\xc3\\xc0\\xe5\\xb1\\xdd\\xb8\\xae</caption>\\n\\t\\t\\t\\t<colgroup>\\n\\t\\t\\t\\t<col width=\"94\">\\n\\t\\t\\t\\t<col width=\"50\">\\n\\t\\t\\t\\t<col width=\"75\">\\n\\t\\t\\t\\t</colgroup>\\n\\t\\t\\t\\t<thead>\\n\\t\\t\\t\\t<tr>\\n\\t\\t\\t\\t<th>\\xb1\\xb8\\xba\\xd0</th>\\n\\t\\t\\t\\t<th>\\xb1\\xdd\\xb8\\xae</th>\\n\\t\\t\\t\\t<th>\\xb5\\xee\\xb6\\xf4\\xc0\\xb2</th>\\n\\t\\t\\t\\t</tr>\\n\\t\\t\\t\\t</thead>\\n\\t\\t\\t\\t<tbody>\\n\\t\\t\\t\\t\\t\\n\\t\\t\\t\\t\\t\\n\\t\\t\\t\\t\\t\\n\\t\\t\\t\\t\\t\\t<tr class=\"up\">\\n\\t\\t\\t\\t\\t\\t\\t<th class=\"th_inter4\"><a href=\"/marketindex/interestDetail.naver?marketindexCd=IRR_CD91\" onclick=\"clickcr(this, \\'rid.local\\', \\'IRR_CD91\\', \\'1\\', event);\"><span>CD\\xb1\\xdd\\xb8\\xae(91\\xc0\\xcf)</span></a></th>\\n\\t\\t\\t\\t\\t\\t\\t<td>1.15</td>\\n\\t\\t\\t\\t\\t\\t\\t<td><img src=\"https://ssl.pstatic.net/static/nfinance/ico_up.gif\" width=\"7\" height=\"6\" alt=\"\\xbb\\xf3\\xbd\\xc2\"> 0.01</td>\\n\\t\\t\\t\\t\\t\\t</tr>\\n\\t\\t\\t\\t\\t\\n\\t\\t\\t\\t\\t\\n\\t\\t\\t\\t\\t\\n\\t\\t\\t\\t\\t\\n\\t\\t\\t\\t\\t\\n\\t\\t\\t\\t\\t\\t<tr class=\"up\">\\n\\t\\t\\t\\t\\t\\t\\t<th class=\"th_inter1\"><a href=\"/marketindex/interestDetail.naver?marketindexCd=IRR_CALL\" onclick=\"clickcr(this, \\'met.8\\', \\'IRR_CALL\\', \\'2\\', event);\"><span>\\xc4\\xdd \\xb1\\xdd\\xb8\\xae</span></a></th>\\n\\t\\t\\t\\t\\t\\t\\t<td>0.80</td>\\n\\t\\t\\t\\t\\t\\t\\t<td><img src=\"https://ssl.pstatic.net/static/nfinance/ico_up.gif\" width=\"7\" height=\"6\" alt=\"\\xbb\\xf3\\xbd\\xc2\"> 0.02</td>\\n\\t\\t\\t\\t\\t\\t</tr>\\n\\t\\t\\t\\t\\t\\n\\t\\t\\t\\t\\t\\n\\t\\t\\t\\t\\t\\n\\t\\t\\t\\t\\t\\n\\t\\t\\t\\t\\t\\n\\t\\t\\t\\t\\t\\t<tr class=\"up\">\\n\\t\\t\\t\\t\\t\\t\\t<th class=\"th_inter2\"><a href=\"/marketindex/interestDetail.naver?marketindexCd=IRR_GOVT03Y\" onclick=\"clickcr(this, \\'met.8\\', \\'IRR_GOVT03Y\\', \\'3\\', event);\"><span>\\xb1\\xb9\\xb0\\xed\\xc3\\xa4 (3\\xb3\\xe2)</span></a></th>\\n\\t\\t\\t\\t\\t\\t\\t<td>1.87</td>\\n\\t\\t\\t\\t\\t\\t\\t<td><img src=\"https://ssl.pstatic.net/static/nfinance/ico_up.gif\" width=\"7\" height=\"6\" alt=\"\\xbb\\xf3\\xbd\\xc2\"> 0.01</td>\\n\\t\\t\\t\\t\\t\\t</tr>\\n\\t\\t\\t\\t\\t\\n\\t\\t\\t\\t\\t\\n\\t\\t\\t\\t\\t\\n\\t\\t\\t\\t\\t\\n\\t\\t\\t\\t\\t\\n\\t\\t\\t\\t\\t\\t<tr class=\"up\">\\n\\t\\t\\t\\t\\t\\t\\t<th class=\"th_inter3\"><a href=\"/marketindex/interestDetail.naver?marketindexCd=IRR_CORP03Y\" onclick=\"clickcr(this, \\'met.8\\', \\'IRR_CORP03Y\\', \\'4\\', event);\"><span>\\xc8\\xb8\\xbb\\xe7\\xc3\\xa4 (3\\xb3\\xe2)</span></a></th>\\n\\t\\t\\t\\t\\t\\t\\t<td>2.41</td>\\n\\t\\t\\t\\t\\t\\t\\t<td><img src=\"https://ssl.pstatic.net/static/nfinance/ico_up.gif\" width=\"7\" height=\"6\" alt=\"\\xbb\\xf3\\xbd\\xc2\"> 0.01</td>\\n\\t\\t\\t\\t\\t\\t</tr>\\n\\t\\t\\t\\t\\t\\n\\t\\t\\t\\t\\t\\n\\t\\t\\t\\t\\t\\n\\t\\t\\t\\t\\t\\n\\t\\t\\t\\t\\t\\n\\t\\t\\t\\t\\t\\t<tr class=\"same\">\\n\\t\\t\\t\\t\\t\\t\\t<th class=\"th_inter5\"><a href=\"/marketindex/interestDetail.naver?marketindexCd=IRR_COFIXBAL\" onclick=\"clickcr(this, \\'met.8\\', \\'IRR_COFIXBAL\\', \\'5\\', event);\"><span>COFIX \\xc0\\xdc\\xbe\\xd7</span></a></th>\\n\\t\\t\\t\\t\\t\\t\\t<td>1.02</td>\\n\\t\\t\\t\\t\\t\\t\\t<td><img src=\"https://ssl.pstatic.net/static/nfinance/ico_same2.gif\" width=\"7\" height=\"6\" alt=\"\\xba\\xb8\\xc7\\xd5\"> 0.00</td>\\n\\t\\t\\t\\t\\t\\t</tr>\\n\\t\\t\\t\\t\\t\\n\\t\\t\\t\\t\\t\\n\\t\\t\\t\\t\\t\\n\\t\\t\\t\\t\\t\\n\\t\\t\\t\\t\\t\\n\\t\\t\\t\\t\\t\\t<tr class=\"up\">\\n\\t\\t\\t\\t\\t\\t\\t<th class=\"th_inter6\"><a href=\"/marketindex/interestDetail.naver?marketindexCd=IRR_COFIXNEW\" onclick=\"clickcr(this, \\'met.8\\', \\'IRR_COFIXNEW\\', \\'6\\', event);\"><span>COFIX \\xbd\\xc5\\xb1\\xd4\\xc3\\xeb\\xb1\\xde\\xbe\\xd7</span></a></th>\\n\\t\\t\\t\\t\\t\\t\\t<td>0.95</td>\\n\\t\\t\\t\\t\\t\\t\\t<td><img src=\"https://ssl.pstatic.net/static/nfinance/ico_up.gif\" width=\"7\" height=\"6\" alt=\"\\xbb\\xf3\\xbd\\xc2\"> 0.03</td>\\n\\t\\t\\t\\t\\t\\t</tr>\\n\\t\\t\\t\\t\\t\\n\\t\\t\\t\\t\\t\\n\\t\\t\\t\\t\\t\\n\\t\\t\\t\\t</tbody>\\n\\t\\t\\t\\t</table>\\n\\t\\t\\t\\n\\t\\t\\t\\n\\t\\t\\t\\n\\t\\t\\t\\n\\t\\t\\t\\n\\t\\t\\t\\n\\t\\t\\t\\n\\t\\t\\t\\t\\n\\t\\t\\t\\t\\t\\n\\t\\t\\t\\t\\t\\t<table class=\"tbl_exchange tbl_exchange_v1 market\" summary=\"\\xb4\\xde\\xb7\\xaf \\xc0\\xce\\xb5\\xa6\\xbd\\xba\" style=\"margin-top:10px;\">\\n\\t\\t\\t\\t\\t\\t\\t<caption>\\xb4\\xde\\xb7\\xaf \\xc0\\xce\\xb5\\xa6\\xbd\\xba</caption>\\n\\t\\t\\t\\t\\t\\t\\t<colgroup>\\n\\t\\t\\t\\t\\t\\t\\t<col width=\"88\">\\n\\t\\t\\t\\t\\t\\t\\t<col width=\"46\">\\n\\t\\t\\t\\t\\t\\t\\t<col width=\"66\">\\n\\t\\t\\t\\t\\t\\t\\t</colgroup>\\n\\t\\t\\t\\t\\t\\t\\t<thead>\\n\\t\\t\\t\\t\\t\\t\\t<tr>\\n\\t\\t\\t\\t\\t\\t\\t<th>\\xb1\\xb8\\xba\\xd0</th>\\n\\t\\t\\t\\t\\t\\t\\t<th>\\xb1\\xdd\\xb8\\xae</th>\\n\\t\\t\\t\\t\\t\\t\\t<th>\\xb5\\xee\\xb6\\xf4\\xc0\\xb2</th>\\n\\t\\t\\t\\t\\t\\t\\t</tr>\\n\\t\\t\\t\\t\\t\\t\\t</thead>\\n\\t\\t\\t\\t\\t\\t\\t<tbody>\\n\\t\\t\\t\\t\\t\\t\\t\\n\\t\\t\\t\\t\\t\\t\\t\\t\\n\\t\\t\\t\\t\\t\\t\\t\\n\\t\\t\\t\\t\\t\\t\\t\\t\\n\\t\\t\\t\\t\\t\\t\\t\\n\\t\\t\\t\\t\\t\\t\\t\\t\\n\\t\\t\\t\\t\\t\\t\\t\\n\\t\\t\\t\\t\\t\\t\\t\\t\\n\\t\\t\\t\\t\\t\\t\\t\\n\\t\\t\\t\\t\\t\\t\\t\\t\\n\\t\\t\\t\\t\\t\\t\\t\\n\\t\\t\\t\\t\\t\\t\\t\\t\\n\\t\\t\\t\\t\\t\\t\\t\\n\\t\\t\\t\\t\\t\\t\\t\\t\\n\\t\\t\\t\\t\\t\\t\\t\\n\\t\\t\\t\\t\\t\\t\\t\\t\\n\\t\\t\\t\\t\\t\\t\\t\\n\\t\\t\\t\\t\\t\\t\\t\\t\\n\\t\\t\\t\\t\\t\\t\\t\\t\\t\\n\\t\\t\\t\\t\\t\\t\\t\\t\\n\\t\\t\\t\\t\\t\\t\\t\\n\\t\\t\\t\\t\\t\\t\\t\\n\\t\\t\\t\\t\\t\\t\\t\\t\\n\\t\\t\\t\\t\\t\\t\\t\\t\\t\\n\\t\\t\\t\\t\\t\\t\\t\\t\\t\\n\\t\\t\\t\\t\\t\\t\\t\\t\\n\\t\\t\\t\\t\\t\\t\\t\\t\\n\\t\\t\\t\\t\\t\\t\\t\\t\\n\\t\\t\\t\\t\\t\\t\\t\\n\\t\\t\\t\\t\\t\\t\\t<tr class=\"other_t1 down\">\\n\\t\\t\\t\\t\\t\\t\\t\\t<th class=\"th_inter7\"><a href=\"/marketindex/worldExchangeDetail.naver?marketindexCd=FX_USDX&fdtc=4\" onclick=\"clickcr(this, \\'rid.dollar\\', \\'FX_USDX\\', \\'\\', event);\"><span>\\xb4\\xde\\xb7\\xaf \\xc0\\xce\\xb5\\xa6\\xbd\\xba</span></a></th>\\n\\t\\t\\t\\t\\t\\t\\t\\t<td>93.9500</td>\\n\\t\\t\\t\\t\\t\\t\\t\\t<td><img src=\"https://ssl.pstatic.net/static/nfinance/ico_down.gif\" width=\"7\" height=\"6\" alt=\"\\xc7\\xcf\\xb6\\xf4\">  0.0900</td>\\n\\t\\t\\t\\t\\t\\t\\t</tr>\\n\\t\\t\\t\\t\\t\\n\\t\\t\\t\\t\\t\\n\\t\\t\\t\\t\\n\\t\\t\\t\\t</tbody>\\n\\t\\t\\t\\t</table>\\n\\t\\t\\t\\n\\t\\t\\t\\n\\t\\t\\t\\n\\t\\t\\t\\n\\t\\t\\t\\n\\t\\t\\t</div>\\n\\n            \\n\\n\\t\\t\\t<div class=\"section_aside\">\\n\\t\\t\\t\\t<div class=\"tab_search search3\">\\n\\t\\t\\t\\t\\t<a href=\"#\" onclick=\"clickcr(this, \\'rch.1\\', \\'\\', \\'\\', event); return false;\"><span>\\xc3\\xd6\\xb1\\xd9\\xc1\\xb6\\xc8\\xb8</span></a>\\n\\t\\t\\t\\t\\t<a href=\"#\" onclick=\"clickcr(this, \\'rch.3\\', \\'\\', \\'\\', event); return false;\"><span>MY STOCK</span></a>\\n\\t\\t\\t\\t</div>\\n\\t\\t\\t\\t<h3 class=\"blind\">\\xc3\\xd6\\xb1\\xd9\\xc1\\xb6\\xc8\\xb8</h3>\\n\\t\\t\\t\\t<table class=\"tbl_search\" summary=\"\\xc3\\xd6\\xb1\\xd9\\xc1\\xb6\\xc8\\xb8 \\xb8\\xae\\xbd\\xba\\xc6\\xae\">\\n\\t\\t\\t\\t<caption>\\xc3\\xd6\\xb1\\xd9\\xc1\\xb6\\xc8\\xb8</caption>\\n\\t\\t\\t\\t<colgroup>\\n\\t\\t\\t\\t<col>\\n\\t\\t\\t\\t<col width=\"55\">\\n\\t\\t\\t\\t<col width=\"87\">\\n\\t\\t\\t\\t</colgroup>\\n\\t\\t\\t\\t<thead>\\n\\t\\t\\t\\t<tr>\\n\\t\\t\\t\\t<th>\\xbe\\xf7\\xc3\\xbc\\xb8\\xed</th>\\n\\t\\t\\t\\t<th>\\xb0\\xc5\\xb7\\xa1\\xb7\\xae</th>\\n\\t\\t\\t\\t<th>\\xc0\\xfc\\xc0\\xcf\\xba\\xf1</th>\\n\\t\\t\\t\\t</tr>\\n\\t\\t\\t\\t</thead>\\n\\t\\t\\t\\t<tbody>\\n\\t\\t\\t\\t</tbody>\\n\\t\\t\\t\\t</table>\\n\\t\\t\\t\\t<div class=\"more_info\">\\n\\t\\t\\t\\t\\t<span>\\n\\t\\t\\t\\t\\t\\t<a href=\"#\" onclick=\"clickcr(this, \\'rch.5\\', \\'\\', \\'\\', event); return false;\"><img src=\"https://ssl.pstatic.net/static/nfinance/btn_prev2.gif\" width=\"17\" height=\"15\" alt=\"\\xc0\\xcc\\xc0\\xfc\"></a>\\n\\t\\t\\t\\t\\t\\t<a href=\"#\" onclick=\"clickcr(this, \\'rch.6\\', \\'\\', \\'\\', event); return false;\"><img src=\"https://ssl.pstatic.net/static/nfinance/btn_next2.gif\" width=\"17\" height=\"15\" alt=\"\\xb4\\xd9\\xc0\\xbd\"></a>\\n\\t\\t\\t\\t\\t</span>\\n\\t\\t\\t\\t\\t<a href=\"#\" onclick=\"javascript:openMyitemNew(\\'https://finance.naver.com\\'); clickcr(this, \\'rch.7\\', \\'\\', \\'\\', event);\" class=\"btn_more _mystock_more_info\"><img src=\"https://ssl.pstatic.net/static/nfinance/btn_more5.gif\" width=\"33\" height=\"10\" alt=\"\\xb4\\xf5\\xba\\xb8\\xb1\\xe2\"></a>\\n\\t\\t\\t\\t</div>\\n\\t\\t\\t</div>\\n\\t\\t\\t\\n\\n\\t\\t\\t\\n\\t\\t\\t<div class=\"section_aside\">\\n\\t\\t\\t\\t<h3 class=\"h_report\"><span>\\xb0\\xe6\\xc1\\xa6\\xba\\xd0\\xbc\\xae \\xb8\\xae\\xc6\\xf7\\xc6\\xae </span></h3>\\n\\t\\t\\t\\t<ul class=\"list_report\">\\n\\t\\t\\t\\t\\n\\t\\t\\t\\t\\t<li><a href=\"/research/economy_read.naver?nid=7460\" onclick=\"clickcr(this, \\'rer.list\\', \\'\\', \\'\\', event);\">QE4 \\xc5\\xd7\\xc0\\xcc\\xc6\\xdb\\xb8\\xb5\\xb0\\xfa \\xbe\\xf7\\xc1\\xbe\\xba\\xb0 \\xbc\\xba\\xb0\\xfa \\xc3\\xdf...</a></li>\\n\\t\\t\\t\\t\\n\\t\\t\\t\\t\\t<li><a href=\"/research/economy_read.naver?nid=7459\" onclick=\"clickcr(this, \\'rer.list\\', \\'\\', \\'\\', event);\">New Balance</a></li>\\n\\t\\t\\t\\t\\n\\t\\t\\t\\t\\t<li><a href=\"/research/economy_read.naver?nid=7458\" onclick=\"clickcr(this, \\'rer.list\\', \\'\\', \\'\\', event);\">\\xc0\\xcd\\xbc\\xf7\\xc7\\xd1 \\xbc\\xd2\\xb0\\xad\\xbb\\xf3\\xc5\\xc2</a></li>\\n\\t\\t\\t\\t\\n\\t\\t\\t\\t\\t<li><a href=\"/research/economy_read.naver?nid=7457\" onclick=\"clickcr(this, \\'rer.list\\', \\'\\', \\'\\', event);\">\\xb0\\xfa\\xb5\\xb5\\xc7\\xcf\\xb0\\xd4 \\xbd\\xf2\\xb7\\xc1\\xc0\\xd6\\xb4\\xc2 \\xc0\\xce\\xc7\\xc3\\xb7\\xb9\\xc0\\xcc\\xbc\\xc7 \\xbf\\xec\\xb7\\xc1...</a></li>\\n\\t\\t\\t\\t\\n\\t\\t\\t\\t\\t<li><a href=\"/research/economy_read.naver?nid=7456\" onclick=\"clickcr(this, \\'rer.list\\', \\'\\', \\'\\', event);\">11\\xbf\\xf9 FOMC Review: \\xb8\\xc5...</a></li>\\n\\t\\t\\t\\t\\n\\t\\t\\t\\t</ul>\\n\\t\\t\\t\\t<a href=\"/research/economy_list.naver\" class=\"btn_more\" onclick=\"clickcr(this, \\'rer.more\\', \\'\\', \\'\\', event);\"><img src=\"https://ssl.pstatic.net/static/nfinance/btn_more.gif\" width=\"34\" height=\"18\" alt=\"\\xb0\\xe6\\xc1\\xa6\\xba\\xd0\\xbc\\xae \\xb8\\xae\\xc6\\xf7\\xc6\\xae \\xb4\\xf5\\xba\\xb8\\xb1\\xe2\"></a>\\n\\t\\t\\t</div>\\n\\t\\t\\t\\n\\t\\t</div>\\n<script type=\"text/javascript\" language=\"javascript\" src=\"https://ssl.pstatic.net/imgstock/static.pc/20211029233853/js/info/myStock.js\"></script>\\n<script type=\"text/javascript\" language=\"javascript\" src=\"https://ssl.pstatic.net/imgstock/static.pc/20211029233853/js/util.js\"></script>\\n<script language=\"javascript\">\\n\\nfunction toggleTabSearch(e){\\n\\tvar currentElement = jindo.$Element(jindo.$Event(e).currentElement);\\n\\tvar parentElement = currentElement.parent();\\n\\tvar id = currentElement.className();\\n\\tvar order = parentElement.indexOf(currentElement) + 3;\\n\\tparentElement.className(\"tab_search search\"+ order);\\n\\n\\t// \\xc6\\xe4\\xc0\\xcc\\xc2\\xa1\\xc0\\xbb \\xc0\\xa7\\xc7\\xd8\\xbc\\xad order\\xb0\\xaa\\xbf\\xa1 \\xb5\\xfb\\xb6\\xf3 \\xc3\\xd6\\xb1\\xd9\\xc1\\xb6\\xc8\\xb8\\xc0\\xce\\xc1\\xf6 mystock\\xc0\\xce\\xc1\\xf6 type\\xc0\\xbb \\xc0\\xfa\\xc0\\xe5\\n\\tif (order == 3) {\\n\\t\\tcurrentType = \"recent\";\\n\\t} else {\\n\\t\\tcurrentType = \"mystock\";\\n\\t}\\n}\\n\\njindo.$Fn(function(){\\n\\tif (\\'true\\' == \\'true\\') {\\n\\t\\tgetStockRightMenuData(\\'000000\\', \\'recent\\', 1, \\'https://finance.naver.com\\', \\'https://ssl.pstatic.net/static/nfinance\\');\\n\\n\\t\\tvar tabSearchArea = jindo.$$.getSingle(\\'.tab_search\\');\\n\\t\\tvar moreInfoArea = jindo.$Element(jindo.$$.getSingle(\\'.tbl_search\\')).next().$value();\\n\\n\\t\\tjindo.$Fn(function(e) {toggleTabSearch(e); getStockRightMenuData(\\'000000\\', \\'recent\\', 1, \\'https://finance.naver.com\\', \\'https://ssl.pstatic.net/static/nfinance\\'); }).attach(jindo.$$.getSingle(\\'a\\' ,tabSearchArea), \\'click\\');\\n\\t\\tjindo.$Fn(function(e) {toggleTabSearch(e); getStockRightMenuData(\\'000000\\', \\'mystock\\', 1, \\'https://finance.naver.com\\', \\'https://ssl.pstatic.net/static/nfinance\\'); }).attach(jindo.$$(\\'a\\' ,tabSearchArea)[1], \\'click\\');\\n\\t\\tjindo.$Fn(function(e) {updatePageForPaging (currentType, \\'up\\', \\'https://finance.naver.com\\', \\'https://ssl.pstatic.net/static/nfinance\\'); }).attach(jindo.$$.getSingle(\\'a\\', moreInfoArea), \\'click\\');\\n\\t\\tjindo.$Fn(function(e) {updatePageForPaging (currentType, \\'down\\', \\'https://finance.naver.com\\', \\'https://ssl.pstatic.net/static/nfinance\\'); }).attach(jindo.$$(\\'a\\', moreInfoArea)[1], \\'click\\');\\n\\t}\\n\\n}).attach(document,\"domready\");\\n\\nfunction openMyitemNew(stockHost) {\\n\\tvar selectedElement = jindo.$Element(jindo.$$.getSingle(\".tab_search\"));\\n\\tif (selectedElement != null) {\\n\\t\\tif (selectedElement.hasClass(\"search1\")) {\\n\\t\\t\\tdocument.location.href = stockHost + \\'/mystock/recentSearchItemList.naver\\';\\n\\t\\t} else {\\n\\t\\t\\tdocument.location.href = stockHost + \\'/mystock/itemList.naver\\';\\n\\t\\t}\\n\\t}\\n}\\n\\n</script>\\n\\n\\t</div>\\n\\t\\n\\n\\n<div id=\"footer\" >\\n\\t<ul>\\n\\t\\t<li class=\"first\">\\n\\t\\t\\t<a href=\"https://www.naver.com/rules/service.html\" onClick=\"clickcr(this, \\'fot.service\\', \\'\\', \\'\\', event);\" target=\"_blank\">\\xc0\\xcc\\xbf\\xeb\\xbe\\xe0\\xb0\\xfc</a>\\n\\t\\t</li>\\n\\t\\t<li>\\n\\t\\t\\t<a href=\"/rules.naver\" onClick=\"clickcr(this, \\'fot.policy\\', \\'\\', \\'\\', event);\" target=\"_blank\">\\xb1\\xdd\\xc0\\xb6\\xb0\\xd4\\xbd\\xc3\\xc6\\xc7 \\xbf\\xee\\xbf\\xb5\\xbf\\xf8\\xc4\\xa2</a>\\n\\t\\t</li>\\n\\t\\t<li>\\n\\t\\t\\t<a href=\"https://www.naver.com/rules/privacy.html\" onClick=\"clickcr(this, \\'fot.privacy\\', \\'\\', \\'\\', event);\" target=\"_blank\"><strong>\\xb0\\xb3\\xc0\\xce\\xc1\\xa4\\xba\\xb8\\xc3\\xb3\\xb8\\xae\\xb9\\xe6\\xc4\\xa7</strong></a>\\n\\t\\t</li>\\n\\t\\t<li>\\n\\t\\t\\t<a href=\"https://www.naver.com/rules/disclaimer.html\" onClick=\"clickcr(this, \\'fot.limit\\', \\'\\', \\'\\', event);\" target=\"_blank\">\\xc3\\xa5\\xc0\\xd3\\xc0\\xc7 \\xc7\\xd1\\xb0\\xe8\\xbf\\xcd \\xb9\\xfd\\xc0\\xfb\\xb0\\xed\\xc1\\xf6</a>\\n\\t\\t</li>\\n\\t\\t<li>\\n\\t\\t\\t<a href=\"https://help.naver.com/support/alias/contents2/finance/finance_1.naver\" onclick=\"clickcr(this, \\'fot.help\\', \\'\\', \\'\\', event);\" target=\"_blank\">\\xb1\\xdd\\xc0\\xb6 \\xb0\\xed\\xb0\\xb4\\xbc\\xbe\\xc5\\xcd</a>\\n\\t\\t</li>\\n\\t</ul>\\n\\t<p class=\"desc\">\\xb3\\xd7\\xc0\\xcc\\xb9\\xf6(\\xc1\\xd6)\\xb0\\xa1 \\xc1\\xa6\\xb0\\xf8\\xc7\\xcf\\xb4\\xc2 \\xb1\\xdd\\xc0\\xb6 \\xc1\\xa4\\xba\\xb8\\xb4\\xc2 \\xb0\\xa2 \\xc4\\xdc\\xc5\\xd9\\xc3\\xf7 \\xc1\\xa6\\xb0\\xf8\\xbe\\xf7\\xc3\\xbc\\xb7\\xce\\xba\\xce\\xc5\\xcd \\xb9\\xde\\xb4\\xc2 \\xc5\\xf5\\xc0\\xda \\xc2\\xfc\\xb0\\xed\\xbb\\xe7\\xc7\\xd7\\xc0\\xcc\\xb8\\xe7, \\xbf\\xc0\\xb7\\xf9\\xb0\\xa1 \\xb9\\xdf\\xbb\\xfd\\xc7\\xcf\\xb0\\xc5\\xb3\\xaa \\xc1\\xf6\\xbf\\xac\\xb5\\xc9 \\xbc\\xf6 \\xc0\\xd6\\xbd\\xc0\\xb4\\xcf\\xb4\\xd9.<br>\\xb3\\xd7\\xc0\\xcc\\xb9\\xf6(\\xc1\\xd6)\\xbf\\xcd \\xc4\\xdc\\xc5\\xd9\\xc3\\xf7 \\xc1\\xa6\\xb0\\xf8\\xbe\\xf7\\xc3\\xbc\\xb4\\xc2 \\xc1\\xa6\\xb0\\xf8\\xb5\\xc8 \\xc1\\xa4\\xba\\xb8\\xbf\\xa1 \\xc0\\xc7\\xc7\\xd1 \\xc5\\xf5\\xc0\\xda \\xb0\\xe1\\xb0\\xfa\\xbf\\xa1 \\xb9\\xfd\\xc0\\xfb\\xc0\\xce \\xc3\\xa5\\xc0\\xd3\\xc0\\xbb \\xc1\\xf6\\xc1\\xf6 \\xbe\\xca\\xbd\\xc0\\xb4\\xcf\\xb4\\xd9. \\xb0\\xd4\\xbd\\xc3\\xb5\\xc8 \\xc1\\xa4\\xba\\xb8\\xb4\\xc2 \\xb9\\xab\\xb4\\xdc\\xc0\\xb8\\xb7\\xce \\xb9\\xe8\\xc6\\xf7\\xc7\\xd2 \\xbc\\xf6 \\xbe\\xf8\\xbd\\xc0\\xb4\\xcf\\xb4\\xd9.</p>\\n\\t<address>\\n\\t\\t<a href=\"https://www.navercorp.com/\" onClick=\"clickcr(this, \\'fot.nhn\\', \\'\\', \\'\\', event);\" target=\"_blank\" class=\"logo\"><img src=\"https://ssl.pstatic.net/static/nfinance/2019/02/22/ci_naver.png\" width=\"58\" height=\"11\" alt=\"NAVER\" /></a>\\n\\t\\t<em>Copyright &copy;</em>\\n\\t\\t<a href=\"https://www.navercorp.com/\" onClick=\"clickcr(this, \\'fot.nhn\\', \\'\\', \\'\\', event);\" target=\"_blank\">NAVER Corp.</a>\\n\\t\\t<span>All Rights Reserved.</span>\\n\\t</address>\\n\\t\\n\\t\\n\\t\\n</div>\\n<script type=\"text/javascript\">\\nfunction isVisible(obj) {\\n    if (obj == document) return true\\n \\n    if (!obj) return false\\n    if (!obj.parentNode) return false\\n    if (obj.style) {\\n        if (obj.style.display == \\'none\\') return false\\n        if (obj.style.visibility == \\'hidden\\') return false\\n    }\\n \\n    if (window.getComputedStyle) {\\n        var style = window.getComputedStyle(obj, \"\")\\n        if (style.display == \\'none\\') return false\\n        if (style.visibility == \\'hidden\\') return false\\n    }\\n \\n    var style = obj.currentStyle\\n    if (style) {\\n        if (style[\\'display\\'] == \\'none\\') return false\\n        if (style[\\'visibility\\'] == \\'hidden\\') return false\\n    }\\n \\n    return isVisible(obj.parentNode)\\n}\\n\\nfunction isChildOf(myobj, containerObj) {\\n\\twhile(myobj != undefined) {\\n\\t\\tif (myobj == document.body) {\\n\\t\\t\\tbreak;\\n\\t\\t} \\n\\t\\tif (myobj == containerObj) {\\n\\t\\t\\treturn true;\\n\\t\\t}\\n\\t\\tmyobj = myobj.parentElement;\\n\\t}\\n\\treturn false;\\t\\n}\\n\\nfunction gnbLayerClose(e){\\n\\tvar target = e.target ? e.target : e.srcElement;\\n\\tif (isVisible(document.getElementById(\\'gnb_service_lyr\\')) || isVisible(document.getElementById(\\'gnb_notice_lyr\\')) ||isVisible(document.getElementById(\\'gnb_my_lyr\\')) ) {\\n\\t\\tif (!isChildOf(target, document.getElementById(\\'gnb\\'))) {\\n\\t\\t\\tgnbAllLayerClose();\\n\\t\\t}\\n\\t}\\t\\n}\\n\\nvar isIE = (navigator.userAgent.toLowerCase().indexOf(\"msie\")!=-1 && window.document.all) ? true:false;\\nif (isIE) {\\n\\tdocument.attachEvent(\\'onmousedown\\', gnbLayerClose);\\n} else {\\n\\twindow.addEventListener(\\'mousedown\\', gnbLayerClose);\\n}\\n</script>\\n\\n</div>\\n</body>\\n</html>'\n"
          ]
        }
      ]
    },
    {
      "cell_type": "markdown",
      "metadata": {
        "id": "csovWXG02_g7"
      },
      "source": [
        "`BeautifulSoup`을 이용해서 엘리먼트를 객체화"
      ]
    },
    {
      "cell_type": "code",
      "metadata": {
        "id": "fuLjKlKj3LOb"
      },
      "source": [
        "soup = BeautifulSoup(html, 'html.parser')\n",
        "soup"
      ],
      "execution_count": null,
      "outputs": []
    },
    {
      "cell_type": "code",
      "metadata": {
        "id": "dh-MdQ4E3XyT"
      },
      "source": [
        "exchange_list = soup.select_one(\"#exchangeList\")\n",
        "exchange_list"
      ],
      "execution_count": null,
      "outputs": []
    },
    {
      "cell_type": "code",
      "metadata": {
        "id": "bdRjkcom52ns"
      },
      "source": [
        "exchange_li_list = exchange_list.select(\"li\")\n",
        "exchange_li_list"
      ],
      "execution_count": null,
      "outputs": []
    },
    {
      "cell_type": "code",
      "metadata": {
        "colab": {
          "base_uri": "https://localhost:8080/"
        },
        "id": "JLpdXkOv6Wjj",
        "outputId": "6614417c-4ea9-4d14-da7f-cdbeb8f59f7c"
      },
      "source": [
        "len(exchange_li_list)"
      ],
      "execution_count": null,
      "outputs": [
        {
          "output_type": "execute_result",
          "data": {
            "text/plain": [
              "4"
            ]
          },
          "metadata": {},
          "execution_count": 23
        }
      ]
    },
    {
      "cell_type": "code",
      "metadata": {
        "colab": {
          "base_uri": "https://localhost:8080/",
          "height": 35
        },
        "id": "dH5H4ayI6eGi",
        "outputId": "52064d77-48b9-4335-aa46-b78fca8f7c5e"
      },
      "source": [
        "exchange_li_list[0].select_one(\"h3.h_lst\").text"
      ],
      "execution_count": null,
      "outputs": [
        {
          "output_type": "execute_result",
          "data": {
            "application/vnd.google.colaboratory.intrinsic+json": {
              "type": "string"
            },
            "text/plain": [
              "'미국 USD'"
            ]
          },
          "metadata": {},
          "execution_count": 31
        }
      ]
    },
    {
      "cell_type": "code",
      "metadata": {
        "colab": {
          "base_uri": "https://localhost:8080/",
          "height": 35
        },
        "id": "zAJpVWKC7B6q",
        "outputId": "302b6426-35d2-4fdc-f720-787e83c9f354"
      },
      "source": [
        "exchange_li_list[0].select_one(\"div.head_info\").select_one(\"span.value\").text"
      ],
      "execution_count": null,
      "outputs": [
        {
          "output_type": "execute_result",
          "data": {
            "application/vnd.google.colaboratory.intrinsic+json": {
              "type": "string"
            },
            "text/plain": [
              "'1,179.00'"
            ]
          },
          "metadata": {},
          "execution_count": 38
        }
      ]
    },
    {
      "cell_type": "code",
      "metadata": {
        "colab": {
          "base_uri": "https://localhost:8080/",
          "height": 35
        },
        "id": "wKVjffT-7sq5",
        "outputId": "f4b75e0e-40cf-4478-a7ee-409c5ba250fe"
      },
      "source": [
        "exchange_li_list[0].select_one(\"div.head_info\").select_one(\"span.change\").text"
      ],
      "execution_count": null,
      "outputs": [
        {
          "output_type": "execute_result",
          "data": {
            "application/vnd.google.colaboratory.intrinsic+json": {
              "type": "string"
            },
            "text/plain": [
              "'3.00'"
            ]
          },
          "metadata": {},
          "execution_count": 39
        }
      ]
    },
    {
      "cell_type": "code",
      "metadata": {
        "colab": {
          "base_uri": "https://localhost:8080/",
          "height": 35
        },
        "id": "cdreK9Iv8Mtr",
        "outputId": "b4106c5a-a232-4feb-9acb-9ab22923f910"
      },
      "source": [
        "exchange_li_list[0].select_one(\"div.head_info > span.blind\").text"
      ],
      "execution_count": null,
      "outputs": [
        {
          "output_type": "execute_result",
          "data": {
            "application/vnd.google.colaboratory.intrinsic+json": {
              "type": "string"
            },
            "text/plain": [
              "'상승'"
            ]
          },
          "metadata": {},
          "execution_count": 42
        }
      ]
    },
    {
      "cell_type": "code",
      "metadata": {
        "id": "0MxrkgFj8OKS"
      },
      "source": [
        "country_names = [] # 나라 이름들을 저장\n",
        "values = [] # 환율 값을 저장\n",
        "changes = [] # 변동 금액?? 저장\n",
        "updowns = [] # 상승 / 하락 여부 저장\n",
        "\n",
        "for exchange_li in exchange_li_list:\n",
        "  country_name = exchange_li.select_one(\"h3.h_lst\").text\n",
        "  \n",
        "  head_info = exchange_li.select_one(\"div.head_info\")\n",
        "  value = head_info.select_one(\"span.value\").text\n",
        "  change = head_info.select_one(\"span.change\").text\n",
        "  # updown = head_info.select(\"span.blind\")[1].text\n",
        "  updown = exchange_li.select_one(\"div.head_info > span.blind\").text\n",
        "\n",
        "  country_names.append(country_name)\n",
        "  values.append(value)\n",
        "  changes.append(change)\n",
        "  updowns.append(updown)"
      ],
      "execution_count": null,
      "outputs": []
    },
    {
      "cell_type": "code",
      "metadata": {
        "colab": {
          "base_uri": "https://localhost:8080/"
        },
        "id": "bHPuBFdo95hz",
        "outputId": "6936df73-3bfc-4244-db6c-2cc59a694834"
      },
      "source": [
        "country_names, values, changes, updowns"
      ],
      "execution_count": null,
      "outputs": [
        {
          "output_type": "execute_result",
          "data": {
            "text/plain": [
              "(['미국 USD', '일본 JPY(100엔)', '유럽연합 EUR', '중국 CNY'],\n",
              " ['1,179.00', '1,041.57', '1,363.93', '184.52'],\n",
              " ['3.00', ' 0.48', '0.77', '0.47'],\n",
              " ['상승', '하락', '상승', '상승'])"
            ]
          },
          "metadata": {},
          "execution_count": 45
        }
      ]
    },
    {
      "cell_type": "markdown",
      "metadata": {
        "id": "sJcAE5g3-YwT"
      },
      "source": [
        "모여진 데이터를 데이터 프레임으로 만들기"
      ]
    },
    {
      "cell_type": "code",
      "metadata": {
        "colab": {
          "base_uri": "https://localhost:8080/",
          "height": 174
        },
        "id": "RPXw7Abw-gbU",
        "outputId": "474d4360-4d2e-4cad-dd8d-e5d218866f4b"
      },
      "source": [
        "import pandas as pd\n",
        "\n",
        "datas = {\n",
        "    \"국가명\" : country_names,\n",
        "    \"환율\": values,\n",
        "    \"변동\": changes,\n",
        "    \"등락\": updowns\n",
        "}\n",
        "\n",
        "finance_df = pd.DataFrame(datas)\n",
        "finance_df"
      ],
      "execution_count": null,
      "outputs": [
        {
          "output_type": "execute_result",
          "data": {
            "text/html": [
              "<div>\n",
              "<style scoped>\n",
              "    .dataframe tbody tr th:only-of-type {\n",
              "        vertical-align: middle;\n",
              "    }\n",
              "\n",
              "    .dataframe tbody tr th {\n",
              "        vertical-align: top;\n",
              "    }\n",
              "\n",
              "    .dataframe thead th {\n",
              "        text-align: right;\n",
              "    }\n",
              "</style>\n",
              "<table border=\"1\" class=\"dataframe\">\n",
              "  <thead>\n",
              "    <tr style=\"text-align: right;\">\n",
              "      <th></th>\n",
              "      <th>국가명</th>\n",
              "      <th>환율</th>\n",
              "      <th>변동</th>\n",
              "      <th>등락</th>\n",
              "    </tr>\n",
              "  </thead>\n",
              "  <tbody>\n",
              "    <tr>\n",
              "      <th>0</th>\n",
              "      <td>미국 USD</td>\n",
              "      <td>1,179.00</td>\n",
              "      <td>3.00</td>\n",
              "      <td>상승</td>\n",
              "    </tr>\n",
              "    <tr>\n",
              "      <th>1</th>\n",
              "      <td>일본 JPY(100엔)</td>\n",
              "      <td>1,041.57</td>\n",
              "      <td>0.48</td>\n",
              "      <td>하락</td>\n",
              "    </tr>\n",
              "    <tr>\n",
              "      <th>2</th>\n",
              "      <td>유럽연합 EUR</td>\n",
              "      <td>1,363.93</td>\n",
              "      <td>0.77</td>\n",
              "      <td>상승</td>\n",
              "    </tr>\n",
              "    <tr>\n",
              "      <th>3</th>\n",
              "      <td>중국 CNY</td>\n",
              "      <td>184.52</td>\n",
              "      <td>0.47</td>\n",
              "      <td>상승</td>\n",
              "    </tr>\n",
              "  </tbody>\n",
              "</table>\n",
              "</div>"
            ],
            "text/plain": [
              "            국가명        환율     변동  등락\n",
              "0        미국 USD  1,179.00   3.00  상승\n",
              "1  일본 JPY(100엔)  1,041.57   0.48  하락\n",
              "2      유럽연합 EUR  1,363.93   0.77  상승\n",
              "3        중국 CNY    184.52   0.47  상승"
            ]
          },
          "metadata": {},
          "execution_count": 47
        }
      ]
    },
    {
      "cell_type": "code",
      "metadata": {
        "colab": {
          "base_uri": "https://localhost:8080/"
        },
        "id": "dE7uiqwB-ttp",
        "outputId": "9a18cee0-33d3-4e39-c1eb-18c81581a2dd"
      },
      "source": [
        "finance_df.to_csv(\"./naver_finance_20211110.csv\", encoding='utf-8')\n",
        "print(\"파일 저장 성공!\")"
      ],
      "execution_count": null,
      "outputs": [
        {
          "output_type": "stream",
          "name": "stdout",
          "text": [
            "파일 저장 성공!\n"
          ]
        }
      ]
    },
    {
      "cell_type": "code",
      "metadata": {
        "id": "rg9TzWDw_CrD"
      },
      "source": [
        ""
      ],
      "execution_count": null,
      "outputs": []
    }
  ]
}